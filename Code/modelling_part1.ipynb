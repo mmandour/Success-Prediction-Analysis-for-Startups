{
 "nbformat": 4,
 "nbformat_minor": 0,
 "metadata": {
  "colab": {
   "name": "thesis-model-part1.ipynb",
   "provenance": [],
   "collapsed_sections": []
  },
  "kernelspec": {
   "display_name": "Python 3",
   "name": "python3"
  }
 },
 "cells": [
  {
   "cell_type": "code",
   "metadata": {
    "colab": {
     "base_uri": "https://localhost:8080/"
    },
    "id": "cK10uzzbM-OF",
    "outputId": "ba5de98a-d976-4843-f306-83f6f58a0bc0"
   },
   "source": [
    "    !pip install pandas\n",
    "!pip install numpy\n",
    "!pip install matplotlib\n",
    "!pip install pyspark"
   ],
   "execution_count": 1,
   "outputs": [
    {
     "output_type": "stream",
     "text": [
      "Requirement already satisfied: pandas in /usr/local/lib/python3.6/dist-packages (1.1.4)\n",
      "Requirement already satisfied: numpy>=1.15.4 in /usr/local/lib/python3.6/dist-packages (from pandas) (1.18.5)\n",
      "Requirement already satisfied: python-dateutil>=2.7.3 in /usr/local/lib/python3.6/dist-packages (from pandas) (2.8.1)\n",
      "Requirement already satisfied: pytz>=2017.2 in /usr/local/lib/python3.6/dist-packages (from pandas) (2018.9)\n",
      "Requirement already satisfied: six>=1.5 in /usr/local/lib/python3.6/dist-packages (from python-dateutil>=2.7.3->pandas) (1.15.0)\n",
      "Requirement already satisfied: numpy in /usr/local/lib/python3.6/dist-packages (1.18.5)\n",
      "Requirement already satisfied: matplotlib in /usr/local/lib/python3.6/dist-packages (3.2.2)\n",
      "Requirement already satisfied: cycler>=0.10 in /usr/local/lib/python3.6/dist-packages (from matplotlib) (0.10.0)\n",
      "Requirement already satisfied: pyparsing!=2.0.4,!=2.1.2,!=2.1.6,>=2.0.1 in /usr/local/lib/python3.6/dist-packages (from matplotlib) (2.4.7)\n",
      "Requirement already satisfied: numpy>=1.11 in /usr/local/lib/python3.6/dist-packages (from matplotlib) (1.18.5)\n",
      "Requirement already satisfied: kiwisolver>=1.0.1 in /usr/local/lib/python3.6/dist-packages (from matplotlib) (1.3.1)\n",
      "Requirement already satisfied: python-dateutil>=2.1 in /usr/local/lib/python3.6/dist-packages (from matplotlib) (2.8.1)\n",
      "Requirement already satisfied: six in /usr/local/lib/python3.6/dist-packages (from cycler>=0.10->matplotlib) (1.15.0)\n",
      "Requirement already satisfied: pyspark in /usr/local/lib/python3.6/dist-packages (3.0.1)\n",
      "Requirement already satisfied: py4j==0.10.9 in /usr/local/lib/python3.6/dist-packages (from pyspark) (0.10.9)\n"
     ],
     "name": "stdout"
    }
   ]
  },
  {
   "cell_type": "code",
   "metadata": {
    "id": "j3xTpH-jMyb9"
   },
   "source": [
    "import pandas as pd\n",
    "import numpy as np\n",
    "# Load functionality to manipulate dataframes\n",
    "from pyspark.sql import functions as fn\n",
    "import matplotlib.pyplot as plt\n",
    "from pyspark.sql.functions import stddev, mean, col\n",
    "from pyspark.sql import SQLContext\n",
    "from pyspark.sql import SparkSession\n",
    "# Functionality for computing features\n",
    "from pyspark.ml import feature, regression, classification, Pipeline\n",
    "from pyspark.ml.classification import LogisticRegression\n",
    "from pyspark.ml import feature, regression, classification, Pipeline\n",
    "from pyspark.ml.feature import Tokenizer, VectorAssembler, HashingTF, Word2Vec, StringIndexer, OneHotEncoder\n",
    "from pyspark.ml import clustering\n",
    "from itertools import chain\n",
    "from pyspark.ml.linalg import Vectors, VectorUDT\n",
    "from pyspark.ml import classification\n",
    "from pyspark.ml.classification import LogisticRegression, RandomForestClassifier, DecisionTreeClassifier\n",
    "from pyspark.ml import evaluation\n",
    "from pyspark.ml.evaluation import BinaryClassificationEvaluator,MulticlassClassificationEvaluator\n",
    "from pyspark import keyword_only\n",
    "from pyspark.ml import Transformer\n",
    "from pyspark.ml.param.shared import HasInputCol, HasOutputCol, Param"
   ],
   "execution_count": 2,
   "outputs": []
  },
  {
   "cell_type": "code",
   "metadata": {
    "colab": {
     "resources": {
      "http://localhost:8080/nbextensions/google.colab/files.js": {
       "data": "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",
       "ok": true,
       "headers": [
        [
         "content-type",
         "application/javascript"
        ]
       ],
       "status": 200,
       "status_text": ""
      }
     },
     "base_uri": "https://localhost:8080/",
     "height": 72
    },
    "id": "2Fl2cEb9O9YI",
    "outputId": "8b94819a-9be6-4846-c0ab-98fcecc88c4d"
   },
   "source": [
    "from google.colab import files\n",
    "uploaded = files.upload()"
   ],
   "execution_count": 3,
   "outputs": [
    {
     "output_type": "display_data",
     "data": {
      "text/html": [
       "\n",
       "     <input type=\"file\" id=\"files-bde016d1-710f-4391-9bbc-1a870620b1f0\" name=\"files[]\" multiple disabled\n",
       "        style=\"border:none\" />\n",
       "     <output id=\"result-bde016d1-710f-4391-9bbc-1a870620b1f0\">\n",
       "      Upload widget is only available when the cell has been executed in the\n",
       "      current browser session. Please rerun this cell to enable.\n",
       "      </output>\n",
       "      <script src=\"/nbextensions/google.colab/files.js\"></script> "
      ],
      "text/plain": [
       "<IPython.core.display.HTML object>"
      ]
     },
     "metadata": {
      "tags": []
     }
    },
    {
     "output_type": "stream",
     "text": [
      "Saving master.csv to master.csv\n"
     ],
     "name": "stdout"
    }
   ]
  },
  {
   "cell_type": "code",
   "metadata": {
    "id": "TGAOtNcnPK50"
   },
   "source": [
    "MAX_MEMORY = \"45g\"\n",
    "\n",
    "spark = SparkSession \\\n",
    "    .builder \\\n",
    "    .appName(\"how to read csv file\") \\\n",
    "    .config(\"spark.executor.memory\", MAX_MEMORY) \\\n",
    "    .config(\"spark.driver.memory\", MAX_MEMORY) \\\n",
    "    .getOrCreate()"
   ],
   "execution_count": 4,
   "outputs": []
  },
  {
   "cell_type": "code",
   "metadata": {
    "id": "NBpeEo-0PXZP"
   },
   "source": [
    "# load master dataset\n",
    "dfmaster = spark.read.format(\"csv\").load(\"master.csv\", delimiter = \",\", header = True)"
   ],
   "execution_count": 5,
   "outputs": []
  },
  {
   "cell_type": "markdown",
   "metadata": {
    "id": "2LB5xRi2QFU2"
   },
   "source": [
    "\n",
    "Preparations and Understanding before Modeling"
   ]
  },
  {
   "cell_type": "code",
   "metadata": {
    "id": "mIkm1LgHQCCk"
   },
   "source": [
    "# create a 0/1 column for acquistions\n",
    "dfmaster = dfmaster.\\\n",
    "  withColumn(\"labelacq\", fn.when(col(\"status\") == \"acquired\",\"1\").otherwise(\"0\"))"
   ],
   "execution_count": 6,
   "outputs": []
  },
  {
   "cell_type": "code",
   "metadata": {
    "colab": {
     "base_uri": "https://localhost:8080/"
    },
    "id": "ZknlsZTQQIhG",
    "outputId": "df02b976-1467-427f-9878-77783cd5e313"
   },
   "source": [
    "# number of rows in master table\n",
    "print(dfmaster.count())"
   ],
   "execution_count": 7,
   "outputs": [
    {
     "output_type": "stream",
     "text": [
      "49445\n"
     ],
     "name": "stdout"
    }
   ]
  },
  {
   "cell_type": "code",
   "metadata": {
    "colab": {
     "base_uri": "https://localhost:8080/"
    },
    "id": "b4V3vRukgnqD",
    "outputId": "96769396-2125-4a92-d10f-03221ce87b34"
   },
   "source": [
    "dfmaster"
   ],
   "execution_count": 8,
   "outputs": [
    {
     "output_type": "execute_result",
     "data": {
      "text/plain": [
       "DataFrame[_c0: string, permalink: string, name: string, market: string, funding_total_usd: string, status: string, country_code: string, city: string, funding_rounds: string, founded_year: string, quarter_new: string, age: string, permalink_agg: string, count_investor: string, time_to_first_funding: string, investor_country_codes: string, funding_round_types: string, total_raised_usd: string, permalink_sub: string, category_final: string, perma: string, investor_country_code: string, permaround: string, funding_round_type: string, labelacq: string]"
      ]
     },
     "metadata": {
      "tags": []
     },
     "execution_count": 8
    }
   ]
  },
  {
   "cell_type": "markdown",
   "metadata": {
    "id": "gQ-F_CvoQKqZ"
   },
   "source": [
    "NAs and market column (with too many levels) handeling"
   ]
  },
  {
   "cell_type": "code",
   "metadata": {
    "colab": {
     "base_uri": "https://localhost:8080/"
    },
    "id": "lQjuF2P-QNvT",
    "outputId": "11d96ad2-d08d-4627-dc7c-ec9810f66a02"
   },
   "source": [
    "# check for missing values \n",
    "dfmaster.toPandas().isnull().sum()"
   ],
   "execution_count": 9,
   "outputs": [
    {
     "output_type": "execute_result",
     "data": {
      "text/plain": [
       "_c0                           0\n",
       "permalink                     1\n",
       "name                          1\n",
       "market                     3967\n",
       "funding_total_usd             1\n",
       "status                     1315\n",
       "country_code               5273\n",
       "city                       6116\n",
       "funding_rounds                1\n",
       "founded_year              10956\n",
       "quarter_new               10956\n",
       "age                       10956\n",
       "permalink_agg                 1\n",
       "count_investor                1\n",
       "time_to_first_funding     24731\n",
       "investor_country_codes    20954\n",
       "funding_round_types       17110\n",
       "total_raised_usd          49435\n",
       "permalink_sub                 1\n",
       "category_final            45459\n",
       "perma                     20954\n",
       "investor_country_code     20954\n",
       "permaround                17110\n",
       "funding_round_type        17110\n",
       "labelacq                      0\n",
       "dtype: int64"
      ]
     },
     "metadata": {
      "tags": []
     },
     "execution_count": 9
    }
   ]
  },
  {
   "cell_type": "code",
   "metadata": {
    "id": "AiaaUGk0QcQB"
   },
   "source": [
    "# drop market columns because of too many level and better breakdown with the category_final column\n",
    "dfmaster1 = dfmaster.drop(\"market\")"
   ],
   "execution_count": 10,
   "outputs": []
  },
  {
   "cell_type": "code",
   "metadata": {
    "colab": {
     "base_uri": "https://localhost:8080/",
     "height": 560
    },
    "id": "kjOYJTFidt0c",
    "outputId": "b6cd8c4c-3b8b-4a49-fa35-915ac95c3a03"
   },
   "source": [
    "dfmaster1 = dfmaster1.toPandas()\n",
    "dfmaster1"
   ],
   "execution_count": 11,
   "outputs": [
    {
     "output_type": "execute_result",
     "data": {
      "text/html": [
       "<div>\n",
       "<style scoped>\n",
       "    .dataframe tbody tr th:only-of-type {\n",
       "        vertical-align: middle;\n",
       "    }\n",
       "\n",
       "    .dataframe tbody tr th {\n",
       "        vertical-align: top;\n",
       "    }\n",
       "\n",
       "    .dataframe thead th {\n",
       "        text-align: right;\n",
       "    }\n",
       "</style>\n",
       "<table border=\"1\" class=\"dataframe\">\n",
       "  <thead>\n",
       "    <tr style=\"text-align: right;\">\n",
       "      <th></th>\n",
       "      <th>_c0</th>\n",
       "      <th>permalink</th>\n",
       "      <th>name</th>\n",
       "      <th>funding_total_usd</th>\n",
       "      <th>status</th>\n",
       "      <th>country_code</th>\n",
       "      <th>city</th>\n",
       "      <th>funding_rounds</th>\n",
       "      <th>founded_year</th>\n",
       "      <th>quarter_new</th>\n",
       "      <th>age</th>\n",
       "      <th>permalink_agg</th>\n",
       "      <th>count_investor</th>\n",
       "      <th>time_to_first_funding</th>\n",
       "      <th>investor_country_codes</th>\n",
       "      <th>funding_round_types</th>\n",
       "      <th>total_raised_usd</th>\n",
       "      <th>permalink_sub</th>\n",
       "      <th>category_final</th>\n",
       "      <th>perma</th>\n",
       "      <th>investor_country_code</th>\n",
       "      <th>permaround</th>\n",
       "      <th>funding_round_type</th>\n",
       "      <th>labelacq</th>\n",
       "    </tr>\n",
       "  </thead>\n",
       "  <tbody>\n",
       "    <tr>\n",
       "      <th>0</th>\n",
       "      <td>0</td>\n",
       "      <td>/organization/1lay</td>\n",
       "      <td>1Lay</td>\n",
       "      <td>1,70,000</td>\n",
       "      <td>operating</td>\n",
       "      <td>None</td>\n",
       "      <td>None</td>\n",
       "      <td>1</td>\n",
       "      <td>2013</td>\n",
       "      <td>Q3</td>\n",
       "      <td>1.5</td>\n",
       "      <td>/organization/1lay</td>\n",
       "      <td>0.0</td>\n",
       "      <td>None</td>\n",
       "      <td>None</td>\n",
       "      <td>None</td>\n",
       "      <td>None</td>\n",
       "      <td>/organization/1lay</td>\n",
       "      <td>None</td>\n",
       "      <td>None</td>\n",
       "      <td>None</td>\n",
       "      <td>None</td>\n",
       "      <td>None</td>\n",
       "      <td>0</td>\n",
       "    </tr>\n",
       "    <tr>\n",
       "      <th>1</th>\n",
       "      <td>1</td>\n",
       "      <td>/organization/24pagebooks</td>\n",
       "      <td>24PageBooks</td>\n",
       "      <td>50,000</td>\n",
       "      <td>closed</td>\n",
       "      <td>USA</td>\n",
       "      <td>Rochester</td>\n",
       "      <td>1</td>\n",
       "      <td>2010</td>\n",
       "      <td>Q1</td>\n",
       "      <td>5.0</td>\n",
       "      <td>/organization/24pagebooks</td>\n",
       "      <td>1.0</td>\n",
       "      <td>1.25</td>\n",
       "      <td>FRA</td>\n",
       "      <td>seed</td>\n",
       "      <td>None</td>\n",
       "      <td>/organization/24pagebooks</td>\n",
       "      <td>None</td>\n",
       "      <td>/organization/24pagebooks</td>\n",
       "      <td>FRA</td>\n",
       "      <td>/organization/24pagebooks</td>\n",
       "      <td>seed</td>\n",
       "      <td>0</td>\n",
       "    </tr>\n",
       "    <tr>\n",
       "      <th>2</th>\n",
       "      <td>2</td>\n",
       "      <td>/organization/5min</td>\n",
       "      <td>5min Media</td>\n",
       "      <td>1,28,00,000</td>\n",
       "      <td>acquired</td>\n",
       "      <td>USA</td>\n",
       "      <td>New York</td>\n",
       "      <td>3</td>\n",
       "      <td>2007</td>\n",
       "      <td>Q1</td>\n",
       "      <td>8.0</td>\n",
       "      <td>/organization/5min</td>\n",
       "      <td>3.0</td>\n",
       "      <td>0.75</td>\n",
       "      <td>USA, USA, USA</td>\n",
       "      <td>venture, venture, venture</td>\n",
       "      <td>None</td>\n",
       "      <td>/organization/5min</td>\n",
       "      <td>None</td>\n",
       "      <td>/organization/5min</td>\n",
       "      <td>USA</td>\n",
       "      <td>/organization/5min</td>\n",
       "      <td>venture</td>\n",
       "      <td>1</td>\n",
       "    </tr>\n",
       "    <tr>\n",
       "      <th>3</th>\n",
       "      <td>3</td>\n",
       "      <td>/organization/abpathfinder</td>\n",
       "      <td>ABPathfinder</td>\n",
       "      <td>9,60,000</td>\n",
       "      <td>operating</td>\n",
       "      <td>USA</td>\n",
       "      <td>Overland Park</td>\n",
       "      <td>3</td>\n",
       "      <td>2010</td>\n",
       "      <td>Q2</td>\n",
       "      <td>4.75</td>\n",
       "      <td>/organization/abpathfinder</td>\n",
       "      <td>4.0</td>\n",
       "      <td>2.5</td>\n",
       "      <td>USA, USA, USA</td>\n",
       "      <td>venture, venture, venture, venture</td>\n",
       "      <td>None</td>\n",
       "      <td>/organization/abpathfinder</td>\n",
       "      <td>None</td>\n",
       "      <td>/organization/abpathfinder</td>\n",
       "      <td>USA</td>\n",
       "      <td>/organization/abpathfinder</td>\n",
       "      <td>venture</td>\n",
       "      <td>0</td>\n",
       "    </tr>\n",
       "    <tr>\n",
       "      <th>4</th>\n",
       "      <td>4</td>\n",
       "      <td>/organization/acid-labs</td>\n",
       "      <td>Acid Labs</td>\n",
       "      <td>-</td>\n",
       "      <td>operating</td>\n",
       "      <td>USA</td>\n",
       "      <td>Santa Monica</td>\n",
       "      <td>1</td>\n",
       "      <td>2003</td>\n",
       "      <td>Q1</td>\n",
       "      <td>12.0</td>\n",
       "      <td>/organization/acid-labs</td>\n",
       "      <td>0.0</td>\n",
       "      <td>None</td>\n",
       "      <td>None</td>\n",
       "      <td>None</td>\n",
       "      <td>None</td>\n",
       "      <td>/organization/acid-labs</td>\n",
       "      <td>None</td>\n",
       "      <td>None</td>\n",
       "      <td>None</td>\n",
       "      <td>None</td>\n",
       "      <td>None</td>\n",
       "      <td>0</td>\n",
       "    </tr>\n",
       "    <tr>\n",
       "      <th>...</th>\n",
       "      <td>...</td>\n",
       "      <td>...</td>\n",
       "      <td>...</td>\n",
       "      <td>...</td>\n",
       "      <td>...</td>\n",
       "      <td>...</td>\n",
       "      <td>...</td>\n",
       "      <td>...</td>\n",
       "      <td>...</td>\n",
       "      <td>...</td>\n",
       "      <td>...</td>\n",
       "      <td>...</td>\n",
       "      <td>...</td>\n",
       "      <td>...</td>\n",
       "      <td>...</td>\n",
       "      <td>...</td>\n",
       "      <td>...</td>\n",
       "      <td>...</td>\n",
       "      <td>...</td>\n",
       "      <td>...</td>\n",
       "      <td>...</td>\n",
       "      <td>...</td>\n",
       "      <td>...</td>\n",
       "      <td>...</td>\n",
       "    </tr>\n",
       "    <tr>\n",
       "      <th>49440</th>\n",
       "      <td>49440</td>\n",
       "      <td>/organization/yieldmo</td>\n",
       "      <td>Yieldmo</td>\n",
       "      <td>2,21,00,000</td>\n",
       "      <td>operating</td>\n",
       "      <td>USA</td>\n",
       "      <td>New York</td>\n",
       "      <td>3</td>\n",
       "      <td>2012</td>\n",
       "      <td>Q2</td>\n",
       "      <td>2.75</td>\n",
       "      <td>/organization/yieldmo</td>\n",
       "      <td>12.0</td>\n",
       "      <td>0.25</td>\n",
       "      <td>USA, USA, USA, USA, USA, ISR, USA, USA, USA, U...</td>\n",
       "      <td>venture, venture, venture, venture, venture, v...</td>\n",
       "      <td>None</td>\n",
       "      <td>/organization/yieldmo</td>\n",
       "      <td>None</td>\n",
       "      <td>/organization/yieldmo</td>\n",
       "      <td>USA</td>\n",
       "      <td>/organization/yieldmo</td>\n",
       "      <td>venture</td>\n",
       "      <td>0</td>\n",
       "    </tr>\n",
       "    <tr>\n",
       "      <th>49441</th>\n",
       "      <td>49441</td>\n",
       "      <td>/organization/youxinpai</td>\n",
       "      <td>Youxinpai</td>\n",
       "      <td>3,00,00,000</td>\n",
       "      <td>operating</td>\n",
       "      <td>CHN</td>\n",
       "      <td>Beijing</td>\n",
       "      <td>1</td>\n",
       "      <td>2011</td>\n",
       "      <td>Q3</td>\n",
       "      <td>3.5</td>\n",
       "      <td>/organization/youxinpai</td>\n",
       "      <td>4.0</td>\n",
       "      <td>1.75</td>\n",
       "      <td>CHN, USA, CHN</td>\n",
       "      <td>venture, venture, venture, venture</td>\n",
       "      <td>None</td>\n",
       "      <td>/organization/youxinpai</td>\n",
       "      <td>None</td>\n",
       "      <td>/organization/youxinpai</td>\n",
       "      <td>CHN</td>\n",
       "      <td>/organization/youxinpai</td>\n",
       "      <td>venture</td>\n",
       "      <td>0</td>\n",
       "    </tr>\n",
       "    <tr>\n",
       "      <th>49442</th>\n",
       "      <td>49442</td>\n",
       "      <td>/organization/zeropercent-us</td>\n",
       "      <td>ZeroPercent.us</td>\n",
       "      <td>-</td>\n",
       "      <td>operating</td>\n",
       "      <td>USA</td>\n",
       "      <td>Chicago</td>\n",
       "      <td>1</td>\n",
       "      <td>2011</td>\n",
       "      <td>Q3</td>\n",
       "      <td>3.5</td>\n",
       "      <td>/organization/zeropercent-us</td>\n",
       "      <td>1.0</td>\n",
       "      <td>2.5</td>\n",
       "      <td>USA</td>\n",
       "      <td>seed</td>\n",
       "      <td>None</td>\n",
       "      <td>/organization/zeropercent-us</td>\n",
       "      <td>None</td>\n",
       "      <td>/organization/zeropercent-us</td>\n",
       "      <td>USA</td>\n",
       "      <td>/organization/zeropercent-us</td>\n",
       "      <td>seed</td>\n",
       "      <td>0</td>\n",
       "    </tr>\n",
       "    <tr>\n",
       "      <th>49443</th>\n",
       "      <td>49443</td>\n",
       "      <td>/organization/zinch</td>\n",
       "      <td>Zinch</td>\n",
       "      <td>54,86,842</td>\n",
       "      <td>acquired</td>\n",
       "      <td>USA</td>\n",
       "      <td>Orem</td>\n",
       "      <td>3</td>\n",
       "      <td>2007</td>\n",
       "      <td>Q1</td>\n",
       "      <td>8.0</td>\n",
       "      <td>/organization/zinch</td>\n",
       "      <td>3.0</td>\n",
       "      <td>0.75</td>\n",
       "      <td>USA, USA</td>\n",
       "      <td>venture, venture, angel</td>\n",
       "      <td>None</td>\n",
       "      <td>/organization/zinch</td>\n",
       "      <td>None</td>\n",
       "      <td>/organization/zinch</td>\n",
       "      <td>USA</td>\n",
       "      <td>/organization/zinch</td>\n",
       "      <td>venture</td>\n",
       "      <td>1</td>\n",
       "    </tr>\n",
       "    <tr>\n",
       "      <th>49444</th>\n",
       "      <td>49444</td>\n",
       "      <td>/organization/zippy-com-au-pty-ltd</td>\n",
       "      <td>Zippy.com.au Pty LTD</td>\n",
       "      <td>2,00,000</td>\n",
       "      <td>acquired</td>\n",
       "      <td>AUS</td>\n",
       "      <td>Brisbane</td>\n",
       "      <td>1</td>\n",
       "      <td>None</td>\n",
       "      <td>None</td>\n",
       "      <td>None</td>\n",
       "      <td>/organization/zippy-com-au-pty-ltd</td>\n",
       "      <td>0.0</td>\n",
       "      <td>None</td>\n",
       "      <td>None</td>\n",
       "      <td>None</td>\n",
       "      <td>None</td>\n",
       "      <td>/organization/zippy-com-au-pty-ltd</td>\n",
       "      <td>None</td>\n",
       "      <td>None</td>\n",
       "      <td>None</td>\n",
       "      <td>None</td>\n",
       "      <td>None</td>\n",
       "      <td>1</td>\n",
       "    </tr>\n",
       "  </tbody>\n",
       "</table>\n",
       "<p>49445 rows × 24 columns</p>\n",
       "</div>"
      ],
      "text/plain": [
       "         _c0                           permalink  ... funding_round_type labelacq\n",
       "0          0                  /organization/1lay  ...               None        0\n",
       "1          1           /organization/24pagebooks  ...               seed        0\n",
       "2          2                  /organization/5min  ...            venture        1\n",
       "3          3          /organization/abpathfinder  ...            venture        0\n",
       "4          4             /organization/acid-labs  ...               None        0\n",
       "...      ...                                 ...  ...                ...      ...\n",
       "49440  49440               /organization/yieldmo  ...            venture        0\n",
       "49441  49441             /organization/youxinpai  ...            venture        0\n",
       "49442  49442        /organization/zeropercent-us  ...               seed        0\n",
       "49443  49443                 /organization/zinch  ...            venture        1\n",
       "49444  49444  /organization/zippy-com-au-pty-ltd  ...               None        1\n",
       "\n",
       "[49445 rows x 24 columns]"
      ]
     },
     "metadata": {
      "tags": []
     },
     "execution_count": 11
    }
   ]
  },
  {
   "cell_type": "code",
   "metadata": {
    "id": "ASU37NVbh1LN"
   },
   "source": [
    "# Replace NaN with mode for categorical variables\n",
    "dfmaster1['total_raised_usd'] = dfmaster1['total_raised_usd'].fillna(dfmaster1['total_raised_usd'].mode()[0])\n",
    "dfmaster1['time_to_first_funding'] = dfmaster1['time_to_first_funding'].fillna(dfmaster1['time_to_first_funding'].mode()[0])\n",
    "dfmaster1['founded_year'] = dfmaster1['founded_year'].fillna(dfmaster1['founded_year'].mode()[0])\n",
    "dfmaster1['age'] = dfmaster1['age'].fillna(dfmaster1['age'].mode()[0])\n",
    "dfmaster1['status'] = dfmaster1['status'].fillna(dfmaster1['status'].mode()[0])\n",
    "dfmaster1['country_code'] = dfmaster1['country_code'].fillna(dfmaster1['country_code'].mode()[0])\n",
    "dfmaster1['city'] = dfmaster1['city'].fillna(dfmaster1['city'].mode()[0])\n",
    "dfmaster1['quarter_new'] = dfmaster1['quarter_new'].fillna(dfmaster1['quarter_new'].mode()[0])\n",
    "dfmaster1['investor_country_codes'] = dfmaster1['investor_country_codes'].fillna(dfmaster1['investor_country_codes'].mode()[0])\n",
    "dfmaster1['funding_round_types'] = dfmaster1['funding_round_types'].fillna(dfmaster1['funding_round_types'].mode()[0])\n",
    "dfmaster1['permaround'] = dfmaster1['permaround'].fillna(dfmaster1['permaround'].mode()[0])\n",
    "dfmaster1['investor_country_code'] = dfmaster1['investor_country_code'].fillna(dfmaster1['investor_country_code'].mode()[0])\n",
    "dfmaster1['funding_round_type'] = dfmaster1['funding_round_type'].fillna(dfmaster1['funding_round_type'].mode()[0])\n",
    "dfmaster1['category_final'] = dfmaster1['category_final'].fillna(dfmaster1['category_final'].mode()[0])\n",
    "dfmaster1['perma'] = dfmaster1['perma'].fillna(dfmaster1['perma'].mode()[0])"
   ],
   "execution_count": 12,
   "outputs": []
  },
  {
   "cell_type": "code",
   "metadata": {
    "colab": {
     "base_uri": "https://localhost:8080/"
    },
    "id": "wZyY7LbojbJ7",
    "outputId": "26f44d94-7e4b-4680-b8c8-ab8fd28aaf4d"
   },
   "source": [
    "# check for missing values \n",
    "dfmaster1.isnull().sum()"
   ],
   "execution_count": 13,
   "outputs": [
    {
     "output_type": "execute_result",
     "data": {
      "text/plain": [
       "_c0                       0\n",
       "permalink                 1\n",
       "name                      1\n",
       "funding_total_usd         1\n",
       "status                    0\n",
       "country_code              0\n",
       "city                      0\n",
       "funding_rounds            1\n",
       "founded_year              0\n",
       "quarter_new               0\n",
       "age                       0\n",
       "permalink_agg             1\n",
       "count_investor            1\n",
       "time_to_first_funding     0\n",
       "investor_country_codes    0\n",
       "funding_round_types       0\n",
       "total_raised_usd          0\n",
       "permalink_sub             1\n",
       "category_final            0\n",
       "perma                     0\n",
       "investor_country_code     0\n",
       "permaround                0\n",
       "funding_round_type        0\n",
       "labelacq                  0\n",
       "dtype: int64"
      ]
     },
     "metadata": {
      "tags": []
     },
     "execution_count": 13
    }
   ]
  },
  {
   "cell_type": "code",
   "metadata": {
    "id": "9zAO9vMnp1JM"
   },
   "source": [
    "# drop rows with missing values\n",
    "dfmaster1drop = dfmaster1.dropna()"
   ],
   "execution_count": 14,
   "outputs": []
  },
  {
   "cell_type": "code",
   "metadata": {
    "colab": {
     "base_uri": "https://localhost:8080/"
    },
    "id": "yyf7mW3xqOWu",
    "outputId": "d4427aec-6421-4a5e-ed94-a3a7b81ba55e"
   },
   "source": [
    "print(dfmaster1drop.count())"
   ],
   "execution_count": 15,
   "outputs": [
    {
     "output_type": "stream",
     "text": [
      "_c0                       49444\n",
      "permalink                 49444\n",
      "name                      49444\n",
      "funding_total_usd         49444\n",
      "status                    49444\n",
      "country_code              49444\n",
      "city                      49444\n",
      "funding_rounds            49444\n",
      "founded_year              49444\n",
      "quarter_new               49444\n",
      "age                       49444\n",
      "permalink_agg             49444\n",
      "count_investor            49444\n",
      "time_to_first_funding     49444\n",
      "investor_country_codes    49444\n",
      "funding_round_types       49444\n",
      "total_raised_usd          49444\n",
      "permalink_sub             49444\n",
      "category_final            49444\n",
      "perma                     49444\n",
      "investor_country_code     49444\n",
      "permaround                49444\n",
      "funding_round_type        49444\n",
      "labelacq                  49444\n",
      "dtype: int64\n"
     ],
     "name": "stdout"
    }
   ]
  },
  {
   "cell_type": "code",
   "metadata": {
    "id": "4hQFr6Ymqsya"
   },
   "source": [
    "sql = SQLContext(spark)"
   ],
   "execution_count": 16,
   "outputs": []
  },
  {
   "cell_type": "code",
   "metadata": {
    "id": "1aCy3ZSIrCsT"
   },
   "source": [
    "dfmaster2 = sql.createDataFrame(dfmaster1drop)"
   ],
   "execution_count": 17,
   "outputs": []
  },
  {
   "cell_type": "code",
   "metadata": {
    "colab": {
     "base_uri": "https://localhost:8080/",
     "height": 53
    },
    "id": "bfy-lv0nrSAk",
    "outputId": "106e733d-81ae-482b-d8d3-aa9636974ac2"
   },
   "source": [
    "display(dfmaster2)"
   ],
   "execution_count": 18,
   "outputs": [
    {
     "output_type": "display_data",
     "data": {
      "text/plain": [
       "DataFrame[_c0: string, permalink: string, name: string, funding_total_usd: string, status: string, country_code: string, city: string, funding_rounds: string, founded_year: string, quarter_new: string, age: string, permalink_agg: string, count_investor: string, time_to_first_funding: string, investor_country_codes: string, funding_round_types: string, total_raised_usd: string, permalink_sub: string, category_final: string, perma: string, investor_country_code: string, permaround: string, funding_round_type: string, labelacq: string]"
      ]
     },
     "metadata": {
      "tags": []
     }
    }
   ]
  },
  {
   "cell_type": "markdown",
   "metadata": {
    "id": "bBzVi9rNQmhv"
   },
   "source": [
    "String indexer, one hot encoder and casting to numerics"
   ]
  },
  {
   "cell_type": "code",
   "metadata": {
    "id": "z3w-8St8QkEA"
   },
   "source": [
    "# create index for categorical variables\n",
    "# use pipline to apply indexer\n",
    "list1 = [\"country_code\",\"city\",\"quarter_new\",\"investor_country_code\",\"funding_round_type\",\"category_final\"]\n",
    "indexers = [StringIndexer(inputCol=column, outputCol=column+\"_index\").fit(dfmaster2) for column in list1]\n",
    "pipelineindex = Pipeline(stages=indexers).fit(dfmaster2)\n",
    "dfmasternew = pipelineindex.transform(dfmaster2)"
   ],
   "execution_count": 19,
   "outputs": []
  },
  {
   "cell_type": "code",
   "metadata": {
    "id": "ofJqkkyJQqyL"
   },
   "source": [
    "# convert string to double for numerical variables\n",
    "dfmasternew = dfmasternew.\\\n",
    "  withColumn(\"numeric_funding_rounds\", dfmasternew[\"funding_rounds\"].cast(\"int\")).\\\n",
    "  withColumn(\"numeric_age\", dfmasternew[\"age\"].cast(\"int\")).\\\n",
    "  withColumn(\"numeric_count_investor\", dfmasternew[\"count_investor\"].cast(\"int\")).\\\n",
    "  withColumn(\"numeric_time_to_first_funding\", dfmasternew[\"time_to_first_funding\"].cast(\"int\")).\\\n",
    "  withColumn(\"numeric_total_raised_usd\", dfmasternew[\"total_raised_usd\"].cast(\"int\")).\\\n",
    "  withColumn(\"label\", dfmasternew[\"labelacq\"].cast(\"int\"))"
   ],
   "execution_count": 20,
   "outputs": []
  },
  {
   "cell_type": "code",
   "metadata": {
    "id": "v_vGMKkl2vor"
   },
   "source": [
    "dfmasternew = dfmasternew.\\\n",
    "  withColumn(\"funding_round_type\", dfmasternew[\"funding_round_type\"].cast(\"double\")).\\\n",
    "  withColumn(\"country_code_index\", dfmasternew[\"country_code_index\"].cast(\"double\")).\\\n",
    "  withColumn(\"city_index\", dfmasternew[\"city_index\"].cast(\"double\")).\\\n",
    "  withColumn(\"quarter_new_index\", dfmasternew[\"quarter_new_index\"].cast(\"double\")).\\\n",
    "  withColumn(\"labelacq\", dfmasternew[\"labelacq\"].cast(\"double\"))"
   ],
   "execution_count": 21,
   "outputs": []
  },
  {
   "cell_type": "code",
   "metadata": {
    "id": "M9frd6bGQ0h7"
   },
   "source": [
    "# save\n",
    "dfone = dfmasternew"
   ],
   "execution_count": 22,
   "outputs": []
  },
  {
   "cell_type": "code",
   "metadata": {
    "colab": {
     "base_uri": "https://localhost:8080/",
     "height": 53
    },
    "id": "waO0Uf_aQ5Fr",
    "outputId": "49587cb9-384f-40cb-86cb-14d68951f41d"
   },
   "source": [
    "display(dfone)"
   ],
   "execution_count": 23,
   "outputs": [
    {
     "output_type": "display_data",
     "data": {
      "text/plain": [
       "DataFrame[_c0: string, permalink: string, name: string, funding_total_usd: string, status: string, country_code: string, city: string, funding_rounds: string, founded_year: string, quarter_new: string, age: string, permalink_agg: string, count_investor: string, time_to_first_funding: string, investor_country_codes: string, funding_round_types: string, total_raised_usd: string, permalink_sub: string, category_final: string, perma: string, investor_country_code: string, permaround: string, funding_round_type: double, labelacq: double, country_code_index: double, city_index: double, quarter_new_index: double, investor_country_code_index: double, funding_round_type_index: double, category_final_index: double, numeric_funding_rounds: int, numeric_age: int, numeric_count_investor: int, numeric_time_to_first_funding: int, numeric_total_raised_usd: int, label: int]"
      ]
     },
     "metadata": {
      "tags": []
     }
    }
   ]
  },
  {
   "cell_type": "code",
   "metadata": {
    "colab": {
     "base_uri": "https://localhost:8080/"
    },
    "id": "b22orTWg_Ep8",
    "outputId": "bc260a07-ea7c-450d-e2ba-9b73caaef713"
   },
   "source": [
    "print(dfone.count())"
   ],
   "execution_count": 24,
   "outputs": [
    {
     "output_type": "stream",
     "text": [
      "49444\n"
     ],
     "name": "stdout"
    }
   ]
  },
  {
   "cell_type": "code",
   "metadata": {
    "colab": {
     "base_uri": "https://localhost:8080/"
    },
    "id": "z-ocjzD4Q6Yb",
    "outputId": "03c90958-dde5-44c1-d603-9260bbcd0d2e"
   },
   "source": [
    "# list of index columns of categorical variables for the onehotencoder\n",
    "list2 = dfone.columns[24:30]\n",
    "list2"
   ],
   "execution_count": 25,
   "outputs": [
    {
     "output_type": "execute_result",
     "data": {
      "text/plain": [
       "['country_code_index',\n",
       " 'city_index',\n",
       " 'quarter_new_index',\n",
       " 'investor_country_code_index',\n",
       " 'funding_round_type_index',\n",
       " 'category_final_index']"
      ]
     },
     "metadata": {
      "tags": []
     },
     "execution_count": 25
    }
   ]
  },
  {
   "cell_type": "code",
   "metadata": {
    "id": "fbl2eaDKRFwz"
   },
   "source": [
    "# create sparse matrix of indexed categorical columns\n",
    "# use pipline to apply the encoder\n",
    "onehotencoder_stages = [OneHotEncoder(inputCol=c, outputCol='onehotencoded_' + c) for c in list2]\n",
    "pipelineonehot = Pipeline(stages=onehotencoder_stages)\n",
    "pipeline_mode = pipelineonehot.fit(dfone)\n",
    "df_coded = pipeline_mode.transform(dfone)"
   ],
   "execution_count": 26,
   "outputs": []
  },
  {
   "cell_type": "code",
   "metadata": {
    "colab": {
     "base_uri": "https://localhost:8080/"
    },
    "id": "18vlEgxt3och",
    "outputId": "25da0ebc-c663-415c-d8bd-04d41a48e699"
   },
   "source": [
    "df_coded.show()"
   ],
   "execution_count": 27,
   "outputs": [
    {
     "output_type": "stream",
     "text": [
      "+---+--------------------+--------------------+-----------------+---------+------------+-------------+--------------+------------+-----------+----+--------------------+--------------+---------------------+----------------------+--------------------+----------------+--------------------+--------------+--------------------+---------------------+--------------------+------------------+--------+------------------+----------+-----------------+---------------------------+------------------------+--------------------+----------------------+-----------+----------------------+-----------------------------+------------------------+-----+--------------------------------+------------------------+-------------------------------+-----------------------------------------+--------------------------------------+----------------------------------+\n",
      "|_c0|           permalink|                name|funding_total_usd|   status|country_code|         city|funding_rounds|founded_year|quarter_new| age|       permalink_agg|count_investor|time_to_first_funding|investor_country_codes| funding_round_types|total_raised_usd|       permalink_sub|category_final|               perma|investor_country_code|          permaround|funding_round_type|labelacq|country_code_index|city_index|quarter_new_index|investor_country_code_index|funding_round_type_index|category_final_index|numeric_funding_rounds|numeric_age|numeric_count_investor|numeric_time_to_first_funding|numeric_total_raised_usd|label|onehotencoded_country_code_index|onehotencoded_city_index|onehotencoded_quarter_new_index|onehotencoded_investor_country_code_index|onehotencoded_funding_round_type_index|onehotencoded_category_final_index|\n",
      "+---+--------------------+--------------------+-----------------+---------+------------+-------------+--------------+------------+-----------+----+--------------------+--------------+---------------------+----------------------+--------------------+----------------+--------------------+--------------+--------------------+---------------------+--------------------+------------------+--------+------------------+----------+-----------------+---------------------------+------------------------+--------------------+----------------------+-----------+----------------------+-----------------------------+------------------------+-----+--------------------------------+------------------------+-------------------------------+-----------------------------------------+--------------------------------------+----------------------------------+\n",
      "|  0|  /organization/1lay|                1Lay|        1,70,000 |operating|         USA|San Francisco|             1|        2013|         Q3| 1.5|  /organization/1lay|           0.0|                  0.0|                   USA|                seed|           118.0|  /organization/1lay|          None| /organization/prysm|                  USA| /organization/prysm|              null|     0.0|               0.0|       0.0|              2.0|                        0.0|                     0.0|                 0.0|                     1|          1|                     0|                            0|                     118|    0|                 (114,[0],[1.0])|        (4187,[0],[1.0])|                  (3,[2],[1.0])|                           (77,[0],[1.0])|                        (12,[0],[1.0])|                     (1,[0],[1.0])|\n",
      "|  1|/organization/24p...|         24PageBooks|          50,000 |   closed|         USA|    Rochester|             1|        2010|         Q1| 5.0|/organization/24p...|           1.0|                 1.25|                   FRA|                seed|           118.0|/organization/24p...|          None|/organization/24p...|                  FRA|/organization/24p...|              null|     0.0|               0.0|     156.0|              0.0|                        2.0|                     1.0|                 0.0|                     1|          5|                     1|                            1|                     118|    0|                 (114,[0],[1.0])|      (4187,[156],[1.0])|                  (3,[0],[1.0])|                           (77,[2],[1.0])|                        (12,[1],[1.0])|                     (1,[0],[1.0])|\n",
      "|  2|  /organization/5min|          5min Media|     1,28,00,000 | acquired|         USA|     New York|             3|        2007|         Q1| 8.0|  /organization/5min|           3.0|                 0.75|         USA, USA, USA|venture, venture,...|           118.0|  /organization/5min|          None|  /organization/5min|                  USA|  /organization/5min|              null|     1.0|               0.0|       1.0|              0.0|                        0.0|                     0.0|                 0.0|                     3|          8|                     3|                            0|                     118|    1|                 (114,[0],[1.0])|        (4187,[1],[1.0])|                  (3,[0],[1.0])|                           (77,[0],[1.0])|                        (12,[0],[1.0])|                     (1,[0],[1.0])|\n",
      "|  3|/organization/abp...|        ABPathfinder|        9,60,000 |operating|         USA|Overland Park|             3|        2010|         Q2|4.75|/organization/abp...|           4.0|                  2.5|         USA, USA, USA|venture, venture,...|           118.0|/organization/abp...|          None|/organization/abp...|                  USA|/organization/abp...|              null|     0.0|               0.0|     282.0|              1.0|                        0.0|                     0.0|                 0.0|                     3|          4|                     4|                            2|                     118|    0|                 (114,[0],[1.0])|      (4187,[282],[1.0])|                  (3,[1],[1.0])|                           (77,[0],[1.0])|                        (12,[0],[1.0])|                     (1,[0],[1.0])|\n",
      "|  4|/organization/aci...|           Acid Labs|             -   |operating|         USA| Santa Monica|             1|        2003|         Q1|12.0|/organization/aci...|           0.0|                  0.0|                   USA|                seed|           118.0|/organization/aci...|          None| /organization/prysm|                  USA| /organization/prysm|              null|     0.0|               0.0|      26.0|              0.0|                        0.0|                     0.0|                 0.0|                     1|         12|                     0|                            0|                     118|    0|                 (114,[0],[1.0])|       (4187,[26],[1.0])|                  (3,[0],[1.0])|                           (77,[0],[1.0])|                        (12,[0],[1.0])|                     (1,[0],[1.0])|\n",
      "|  5|/organization/acl...|Aclaris Therapeutics|     4,20,00,000 |operating|         USA|      Malvern|             2|        2012|         Q1| 3.0|/organization/acl...|           6.0|                  0.0|  USA, USA, USA, US...|venture, venture,...|           118.0|/organization/acl...|          None|/organization/acl...|                  USA|/organization/acl...|              null|     0.0|               0.0|     217.0|              0.0|                        0.0|                     0.0|                 0.0|                     2|          3|                     6|                            0|                     118|    0|                 (114,[0],[1.0])|      (4187,[217],[1.0])|                  (3,[0],[1.0])|                           (77,[0],[1.0])|                        (12,[0],[1.0])|                     (1,[0],[1.0])|\n",
      "|  6|/organization/ada...|          Adaptivity|     2,48,45,955 | acquired|         USA|    Charlotte|             6|        2007|         Q1| 8.0|/organization/ada...|           9.0|                 3.75|  USA, USA, USA, US...|venture, venture,...|           118.0|/organization/ada...|          None|/organization/ada...|                  USA|/organization/ada...|              null|     1.0|               0.0|      92.0|              0.0|                        0.0|                     0.0|                 0.0|                     6|          8|                     9|                            3|                     118|    1|                 (114,[0],[1.0])|       (4187,[92],[1.0])|                  (3,[0],[1.0])|                           (77,[0],[1.0])|                        (12,[0],[1.0])|                     (1,[0],[1.0])|\n",
      "|  7|/organization/aer...| Aerpio Therapeutics|     6,30,00,000 |operating|         USA|   Cincinnati|             4|        2011|         Q1| 4.0|/organization/aer...|          16.0|                  1.5|  USA, USA, CHE, US...|venture, venture,...|           118.0|/organization/aer...|          None|/organization/aer...|                  USA|/organization/aer...|              null|     0.0|               0.0|      72.0|              0.0|                        0.0|                     0.0|                 0.0|                     4|          4|                    16|                            1|                     118|    0|                 (114,[0],[1.0])|       (4187,[72],[1.0])|                  (3,[0],[1.0])|                           (77,[0],[1.0])|                        (12,[0],[1.0])|                     (1,[0],[1.0])|\n",
      "|  8| /organization/aider|               Aider|          44,645 |operating|         KOR|San Francisco|             1|        2012|         Q2|2.75| /organization/aider|           2.0|                 1.25|              KOR, KOR|    venture, venture|           118.0| /organization/aider|          None| /organization/aider|                  KOR| /organization/aider|              null|     0.0|              19.0|       0.0|              1.0|                       20.0|                     0.0|                 0.0|                     1|          2|                     2|                            1|                     118|    0|                (114,[19],[1.0])|        (4187,[0],[1.0])|                  (3,[1],[1.0])|                          (77,[20],[1.0])|                        (12,[0],[1.0])|                     (1,[0],[1.0])|\n",
      "|  9|/organization/alt...|            Altobeam|     2,60,00,000 |operating|         CHN|      Beijing|             4|        2007|         Q2|7.75|/organization/alt...|          14.0|                 1.75|  USA, USA, USA, CH...|venture, venture,...|           118.0|/organization/alt...|          None|/organization/alt...|                  USA|/organization/alt...|              null|     0.0|               3.0|      11.0|              1.0|                        0.0|                     0.0|                 0.0|                     4|          7|                    14|                            1|                     118|    0|                 (114,[3],[1.0])|       (4187,[11],[1.0])|                  (3,[1],[1.0])|                           (77,[0],[1.0])|                        (12,[0],[1.0])|                     (1,[0],[1.0])|\n",
      "| 10|/organization/amt...|AMTT Digital Serv...|     1,00,00,000 |operating|         CHN|      Beijing|             1|        2008|         Q1| 7.0|/organization/amt...|           1.0|                  1.0|                   HKG|             venture|           118.0|/organization/amt...|          None|/organization/amt...|                  HKG|/organization/amt...|              null|     0.0|               3.0|      11.0|              0.0|                       14.0|                     0.0|                 0.0|                     1|          7|                     1|                            1|                     118|    0|                 (114,[3],[1.0])|       (4187,[11],[1.0])|                  (3,[0],[1.0])|                          (77,[14],[1.0])|                        (12,[0],[1.0])|                     (1,[0],[1.0])|\n",
      "| 11|/organization/ana...|       Analyte Logic|        7,00,000 |operating|         USA|       Denver|             1|        2008|         Q1| 7.0|/organization/ana...|           0.0|                  0.0|                   USA|                seed|           118.0|/organization/ana...|          None| /organization/prysm|                  USA| /organization/prysm|              null|     0.0|               0.0|      35.0|              0.0|                        0.0|                     0.0|                 0.0|                     1|          7|                     0|                            0|                     118|    0|                 (114,[0],[1.0])|       (4187,[35],[1.0])|                  (3,[0],[1.0])|                           (77,[0],[1.0])|                        (12,[0],[1.0])|                     (1,[0],[1.0])|\n",
      "| 12|/organization/apo...|            Aposense|     2,23,00,000 |operating|         ISR|  Petah Tiqva|             3|        1996|         Q1|19.0|/organization/apo...|          12.0|                10.75|  USA, ISR, USA, IS...|venture, venture,...|           118.0|/organization/apo...|          None|/organization/apo...|                  ISR|/organization/apo...|              null|     0.0|               7.0|     265.0|              0.0|                        8.0|                     0.0|                 0.0|                     3|         19|                    12|                           10|                     118|    0|                 (114,[7],[1.0])|      (4187,[265],[1.0])|                  (3,[0],[1.0])|                           (77,[8],[1.0])|                        (12,[0],[1.0])|                     (1,[0],[1.0])|\n",
      "| 13|/organization/arg...|             arGEN-X|     6,19,49,000 |operating|         NLD|    Rotterdam|             3|        2012|         Q1| 3.0|/organization/arg...|          18.0|                  0.0|  FRA, USA, USA, NL...|venture, venture,...|           118.0|/organization/arg...|          None|/organization/arg...|                  NLD|/organization/arg...|              null|     0.0|              13.0|     307.0|              0.0|                       19.0|                     0.0|                 0.0|                     3|          3|                    18|                            0|                     118|    0|                (114,[13],[1.0])|      (4187,[307],[1.0])|                  (3,[0],[1.0])|                          (77,[19],[1.0])|                        (12,[0],[1.0])|                     (1,[0],[1.0])|\n",
      "| 14|/organization/art...|     Articulinx Inc.|       22,00,000 |operating|         USA|    Cupertino|             1|        2007|         Q1| 8.0|/organization/art...|           1.0|                 5.75|                   USA|             venture|           118.0|/organization/art...|          None|/organization/art...|                  USA|/organization/art...|              null|     0.0|               0.0|      88.0|              0.0|                        0.0|                     0.0|                 0.0|                     1|          8|                     1|                            5|                     118|    0|                 (114,[0],[1.0])|       (4187,[88],[1.0])|                  (3,[0],[1.0])|                           (77,[0],[1.0])|                        (12,[0],[1.0])|                     (1,[0],[1.0])|\n",
      "| 15|/organization/ast...|  Aster Data Systems|     5,30,00,000 | acquired|         USA|   San Carlos|             4|        2005|         Q3| 9.5|/organization/ast...|          18.0|                 0.25|  USA, USA, USA, US...|venture, venture,...|           118.0|/organization/ast...|          None|/organization/ast...|                  USA|/organization/ast...|              null|     1.0|               0.0|     150.0|              2.0|                        0.0|                     0.0|                 0.0|                     4|          9|                    18|                            0|                     118|    1|                 (114,[0],[1.0])|      (4187,[150],[1.0])|                  (3,[2],[1.0])|                           (77,[0],[1.0])|                        (12,[0],[1.0])|                     (1,[0],[1.0])|\n",
      "| 16|/organization/atm...|          Atmospheir|       14,00,000 |operating|         USA|     Brooklyn|             2|        2011|         Q4|3.25|/organization/atm...|           0.0|                  0.0|                   USA|                seed|           118.0|/organization/atm...|          None| /organization/prysm|                  USA| /organization/prysm|              null|     0.0|               0.0|      49.0|              3.0|                        0.0|                     0.0|                 0.0|                     2|          3|                     0|                            0|                     118|    0|                 (114,[0],[1.0])|       (4187,[49],[1.0])|                      (3,[],[])|                           (77,[0],[1.0])|                        (12,[0],[1.0])|                     (1,[0],[1.0])|\n",
      "| 17|/organization/att...|        Attune Foods|       50,00,000 |operating|         USA|San Francisco|             1|        2006|         Q1| 9.0|/organization/att...|           0.0|                  0.0|                   USA|                seed|           118.0|/organization/att...|          None| /organization/prysm|                  USA| /organization/prysm|              null|     0.0|               0.0|       0.0|              0.0|                        0.0|                     0.0|                 0.0|                     1|          9|                     0|                            0|                     118|    0|                 (114,[0],[1.0])|        (4187,[0],[1.0])|                  (3,[0],[1.0])|                           (77,[0],[1.0])|                        (12,[0],[1.0])|                     (1,[0],[1.0])|\n",
      "| 18|/organization/atvenu|              atVenu|       11,00,000 |operating|         USA|    Sausalito|             1|        2012|         Q1| 3.0|/organization/atvenu|           1.0|                  2.0|                   CAN|                seed|           118.0|/organization/atvenu|          None|/organization/atvenu|                  CAN|/organization/atvenu|              null|     0.0|               0.0|     349.0|              0.0|                        6.0|                     1.0|                 0.0|                     1|          3|                     1|                            2|                     118|    0|                 (114,[0],[1.0])|      (4187,[349],[1.0])|                  (3,[0],[1.0])|                           (77,[6],[1.0])|                        (12,[1],[1.0])|                     (1,[0],[1.0])|\n",
      "| 19| /organization/avast|      AVAST Software|    10,00,00,000 |operating|         CZE|       Prague|             2|        1988|         Q1|27.0| /organization/avast|           2.0|                 22.5|              GBR, USA|private_equity, p...|           118.0| /organization/avast|          None| /organization/avast|                  USA| /organization/avast|              null|     0.0|              37.0|     212.0|              0.0|                        0.0|                     4.0|                 0.0|                     2|         27|                     2|                           22|                     118|    0|                (114,[37],[1.0])|      (4187,[212],[1.0])|                  (3,[0],[1.0])|                           (77,[0],[1.0])|                        (12,[4],[1.0])|                     (1,[0],[1.0])|\n",
      "+---+--------------------+--------------------+-----------------+---------+------------+-------------+--------------+------------+-----------+----+--------------------+--------------+---------------------+----------------------+--------------------+----------------+--------------------+--------------+--------------------+---------------------+--------------------+------------------+--------+------------------+----------+-----------------+---------------------------+------------------------+--------------------+----------------------+-----------+----------------------+-----------------------------+------------------------+-----+--------------------------------+------------------------+-------------------------------+-----------------------------------------+--------------------------------------+----------------------------------+\n",
      "only showing top 20 rows\n",
      "\n"
     ],
     "name": "stdout"
    }
   ]
  },
  {
   "cell_type": "markdown",
   "metadata": {
    "id": "FUEDzSq13rsG"
   },
   "source": [
    "\n",
    "Data split, defining vector assemblers & standard scaler and creating labellist"
   ]
  },
  {
   "cell_type": "code",
   "metadata": {
    "id": "ZcsTHOZr3vTD"
   },
   "source": [
    "# split dataset into training, validaiton and testing dataset\n",
    "training_df, validation_df, testing_df = df_coded.randomSplit([0.6, 0.3, 0.1])"
   ],
   "execution_count": 28,
   "outputs": []
  },
  {
   "cell_type": "code",
   "metadata": {
    "colab": {
     "base_uri": "https://localhost:8080/"
    },
    "id": "o9LmQ1xN30F9",
    "outputId": "d7bbf0c7-1fc0-4e4e-fffe-a4eee7126de5"
   },
   "source": [
    "training_df.columns[30:35]"
   ],
   "execution_count": 29,
   "outputs": [
    {
     "output_type": "execute_result",
     "data": {
      "text/plain": [
       "['numeric_funding_rounds',\n",
       " 'numeric_age',\n",
       " 'numeric_count_investor',\n",
       " 'numeric_time_to_first_funding',\n",
       " 'numeric_total_raised_usd']"
      ]
     },
     "metadata": {
      "tags": []
     },
     "execution_count": 29
    }
   ]
  },
  {
   "cell_type": "code",
   "metadata": {
    "colab": {
     "base_uri": "https://localhost:8080/"
    },
    "id": "ezy5qwM84oTe",
    "outputId": "bae85c0b-fd25-478a-fcea-0520a714a5f2"
   },
   "source": [
    "training_df.columns[36:42]"
   ],
   "execution_count": 30,
   "outputs": [
    {
     "output_type": "execute_result",
     "data": {
      "text/plain": [
       "['onehotencoded_country_code_index',\n",
       " 'onehotencoded_city_index',\n",
       " 'onehotencoded_quarter_new_index',\n",
       " 'onehotencoded_investor_country_code_index',\n",
       " 'onehotencoded_funding_round_type_index',\n",
       " 'onehotencoded_category_final_index']"
      ]
     },
     "metadata": {
      "tags": []
     },
     "execution_count": 30
    }
   ]
  },
  {
   "cell_type": "code",
   "metadata": {
    "id": "oUeZlYsO5Haw"
   },
   "source": [
    "# define vector assembler with the features for the modelling\n",
    "vanum = VectorAssembler(). \\\n",
    "      setInputCols(training_df.columns[30:35]). \\\n",
    "      setOutputCol('features_nonstd')"
   ],
   "execution_count": 31,
   "outputs": []
  },
  {
   "cell_type": "code",
   "metadata": {
    "id": "oTA1QXoP5LpN"
   },
   "source": [
    "# define vector assembler with the features for the modelling\n",
    "vacate = VectorAssembler(). \\\n",
    "      setInputCols(training_df.columns[36:42]). \\\n",
    "      setOutputCol('featurescate')"
   ],
   "execution_count": 32,
   "outputs": []
  },
  {
   "cell_type": "code",
   "metadata": {
    "id": "U38mX6ex5OIV"
   },
   "source": [
    "va = VectorAssembler(). \\\n",
    "      setInputCols(['featuresnum','featurescate']). \\\n",
    "      setOutputCol('features')"
   ],
   "execution_count": 33,
   "outputs": []
  },
  {
   "cell_type": "code",
   "metadata": {
    "id": "WXfCTaHu5QkA"
   },
   "source": [
    "std = feature.StandardScaler(withMean=True, withStd=True).setInputCol('features_nonstd').setOutputCol('featuresnum')"
   ],
   "execution_count": 34,
   "outputs": []
  },
  {
   "cell_type": "code",
   "metadata": {
    "id": "SSogkbno5UBy"
   },
   "source": [
    "# suffix for investor country code because intersection with county_code of  the companies\n",
    "invcc = ['{}_{}'.format(a, \"investor\") for a in indexers[3].labels]"
   ],
   "execution_count": 35,
   "outputs": []
  },
  {
   "cell_type": "code",
   "metadata": {
    "id": "Xh_gzS3f5XDD"
   },
   "source": [
    "# define labellist by using the indexer stages for displaying the weights & loadings\n",
    "labellist = training_df.columns[30:35] + indexers[0].labels + indexers[1].labels + indexers[2].labels + invcc + indexers[4].labels + indexers[5].labels"
   ],
   "execution_count": 36,
   "outputs": []
  },
  {
   "cell_type": "code",
   "metadata": {
    "colab": {
     "base_uri": "https://localhost:8080/"
    },
    "id": "wi6qlUeU5hq-",
    "outputId": "c21c06a7-6360-410e-f020-43a87b3c06a1"
   },
   "source": [
    "# null dummy for onehotencoded_country_code_index\n",
    "print(\"null dummy for onehotencoded_country_code_index\")\n",
    "print(len(indexers[0].labels))\n",
    "print(indexers[0].labels)\n",
    "# null dummy for onehotencoded_city_index\n",
    "print(\"null dummy for onehotencoded_city_index\")\n",
    "print(indexers[1].labels)\n",
    "print(len(indexers[1].labels))\n",
    "# null dummy for onehotencoded_quarter_new_index\n",
    "print(\"null dummy for onehotencoded_quarter_new_index\")\n",
    "print(len(indexers[2].labels))\n",
    "print(indexers[2].labels)\n",
    "# null dummy for onehotencoded_investor_country_code_index\n",
    "print(\"null dummy for onehotencoded_investor_country_code_index\")\n",
    "print(len(invcc))\n",
    "print(invcc)\n",
    "# null dummy for onehotencoded_funding_round_type_index\n",
    "print(\"null dummy for onehotencoded_funding_round_type_index\")\n",
    "print(len(indexers[4].labels))\n",
    "print(indexers[4].labels)\n",
    "# null dummy for onehotencoded_category_final_index\n",
    "print(\"null dummy for onehotencoded_category_final_index\")\n",
    "print(len(indexers[5].labels))\n",
    "print(indexers[5].labels)"
   ],
   "execution_count": 37,
   "outputs": [
    {
     "output_type": "stream",
     "text": [
      "null dummy for onehotencoded_country_code_index\n",
      "115\n",
      "['USA', 'GBR', 'CAN', 'CHN', 'DEU', 'FRA', 'IND', 'ISR', 'ESP', 'RUS', 'SWE', 'AUS', 'ITA', 'NLD', 'IRL', 'SGP', 'BRA', 'CHL', 'JPN', 'KOR', 'CHE', 'DNK', 'FIN', 'ARG', 'BEL', 'HKG', 'TUR', 'AUT', 'NOR', 'POL', 'MEX', 'PRT', 'BGR', 'ARE', 'NZL', 'IDN', 'ZAF', 'CZE', 'MYS', 'UKR', 'EST', 'HUN', 'TWN', 'THA', 'COL', 'PHL', 'GRC', 'LTU', 'PER', 'NGA', 'KEN', 'EGY', 'LUX', 'ROM', 'VNM', 'DZA', 'JOR', 'PAK', 'ISL', 'SVK', 'LBN', 'CYP', 'LVA', 'URY', 'CYM', 'GHA', 'SVN', 'KHM', 'SRB', 'UGA', 'HRV', 'BGD', 'SAU', 'TZA', 'CRI', 'PAN', 'BMU', 'BWA', 'GTM', 'AZE', 'BHR', 'BLR', 'DOM', 'MAR', 'MLT', 'SLV', 'TUN', 'ARM', 'BHS', 'CMR', 'ECU', 'GIB', 'KWT', 'LAO', 'MDA', 'MKD', 'MMR', 'NIC', 'NPL', 'ALB', 'BRN', 'CIV', 'JAM', 'JEY', 'LIE', 'MAF', 'MCO', 'MOZ', 'MUS', 'OMN', 'SOM', 'SYC', 'TTO', 'UZB', 'ZWE']\n",
      "null dummy for onehotencoded_city_index\n",
      "['San Francisco', 'New York', 'London', 'Palo Alto', 'Austin', 'Cambridge', 'Seattle', 'Chicago', 'Los Angeles', 'Mountain View', 'San Diego', 'Beijing', 'Boston', 'Paris', 'Toronto', 'San Jose', 'Sunnyvale', 'Berlin', 'Atlanta', 'Santa Clara', 'Singapore', 'San Mateo', 'Moscow', 'Santiago', 'Dublin', 'Redwood City', 'Santa Monica', 'Shanghai', 'Vancouver', 'Tel Aviv', 'Menlo Park', 'Bangalore', 'Tokyo', 'Seoul', 'Portland', 'Denver', 'Houston', 'Pittsburgh', 'Barcelona', 'Dallas', 'Irvine', 'Boulder', 'Washington', 'Madrid', 'Mumbai', 'Nashville', 'Philadelphia', 'Waltham', 'Montr�al', 'Brooklyn', 'Miami', 'Amsterdam', 'Las Vegas', 'Bellevue', 'Buenos Aires', 'Cleveland', 'S�o Paulo', 'Minneapolis', 'Scottsdale', 'Salt Lake City', 'Stockholm', 'Durham', 'Fremont', 'Copenhagen', 'Helsinki', 'Indianapolis', 'Munich', 'Hong Kong', 'St Louis', 'Vienna', 'Shenzhen', 'Baltimore', 'Cincinnati', 'Raleigh', 'Sydney', 'Madison', 'New Delhi', 'Ottawa', 'Ann Arbor', 'Columbus', 'Milan', 'Berkeley', 'Istanbul', 'Lexington', 'Tampa', 'Burlington', 'Carlsbad', 'Fayetteville', 'Cupertino', 'Oakland', 'San Antonio', 'Reston', 'Charlotte', 'Memphis', 'Providence', 'Santa Barbara', 'Calgary', 'Hamburg', 'Campbell', 'Rockville', 'Bethesda', 'Dubai', 'Louisville', 'Pasadena', 'Plano', 'Richmond', 'Birmingham', 'Boca Raton', 'Gurgaon', 'Melbourne', 'Phoenix', 'South San Francisco', 'Wilmington', 'Edinburgh', 'Manchester', 'Pleasanton', 'Burlingame', 'Los Gatos', 'Z�rich', 'Orlando', 'Valencia', 'Arlington', 'Chennai', 'Los Altos', 'Newark', 'Redmond', 'Woburn', 'Columbia', 'La Jolla', 'Hyderabad', 'Mclean', 'Sofia', 'Newton', 'Fort Lauderdale', 'Milpitas', 'Omaha', 'Culver City', 'Emeryville', 'Albuquerque', 'Aliso Viejo', 'Alpharetta', 'Herzliya', 'Tucson', 'Kirkland', 'Detroit', 'Morrisville', 'New Haven', 'Princeton', 'Beverly Hills', 'Provo', 'San Carlos', 'Chattanooga', 'Greenville', 'Mexico City', 'Oslo', 'Richardson', 'Rochester', 'Brentwood', 'Jakarta', 'Newport Beach', 'Bedford', 'Venice', 'West Hollywood', 'Charlottesville', 'Cologne', 'Foster City', 'Franklin', 'Honolulu', 'Jerusalem', 'Rio De Janeiro', 'Guangzhou', 'Saint Paul', 'Hangzhou', 'Little Rock', 'Lucerne Valley', 'Stamford', 'Waterloo', 'Wayne', 'Herndon', 'San Ramon', 'Buffalo', 'El Segundo', 'Oxford', 'Budapest', 'Irles', 'Sacramento', 'Warsaw', 'Liverpool', 'Marlborough', 'New Orleans', 'Ramat Gan', 'Tallinn', '�an', 'Bristol', 'Cape Town', 'Espoo', 'Greenwood Village', 'Jacksonville', 'Jersey City', 'Noida', 'Quebec', 'Saint Petersburg', 'Brisbane', 'Broomfield', 'Colorado Springs', 'Halifax', 'Kansas City', 'Andover', 'Athens', 'Boise', 'Edmonton', 'Knoxville', 'Prague', 'Rome', 'Burnaby', 'Geneva', 'Irving', 'Malvern', 'Milwaukee', 'Oklahoma City', 'Sheffield', 'St. Petersburg', 'Alexandria', 'Bangkok', 'Bogot�', 'Brussels', 'Hayward', 'Plymouth', 'Pune', 'Taipei', 'Tempe', 'Vilnius', 'Champaign', 'Englewood', 'Glasgow', 'Reading', 'Torrance', 'Burbank', 'Concord', 'Eden Prairie', 'Lausanne', 'Lima', 'Littleton', 'Malm�', 'Minnetonka', 'M�nchen', 'Netanya', 'Newcastle Upon Tyne', 'San Bruno', 'San Clemente', 'Beaverton', 'Bothell', 'Framingham', 'Mississauga', 'Roncade', 'Saint Louis', 'Troy', 'Tulsa', 'Woodland Hills', 'Gainesville', 'Gaithersburg', 'Huntsville', 'Kuala Lumpur', 'Norcross', 'Orem', 'Petah Tiqva', 'Sandy', 'Somerville', 'Centennial', 'Chandler', 'Charleston', 'Draper', 'Kiev', 'Lafayette', 'Lincoln', 'Lyon', 'Victoria', 'Auckland', 'Aurora', 'Chapel Hill', 'Dresden', 'Kitchener', 'Overland Park', 'Portsmouth', \"Ra'anana\", 'Reno', 'Sarasota', 'Addison', 'Belfast', 'Belmont', 'Cary', 'Fairfield', 'Fort Collins', 'Fort Worth', 'Longmont', 'Lund', 'Miami Beach', 'Nairobi', 'Watertown', 'Wellesley', 'West Palm Beach', 'Annapolis', 'Cork', 'Glendale', 'King Of Prussia', 'Nashua', 'Norwalk', 'Rotterdam', 'Santa Ana', 'Santa Rosa', 'Syracuse', 'Wellington', 'Westlake Village', 'Alameda', 'Billerica', 'Conshohocken', 'Deutsch', 'Encinitas', 'Evanston', 'Fairfax', 'Gothenburg', 'Roswell', 'Abingdon', 'Amman', 'Baton Rouge', 'Belo Horizonte', 'Chengdu', 'Delray Beach', 'Henderson', 'Kfar Saba', 'Lehi', 'Manhattan Beach', 'Naples', 'Perth', 'Petaluma', 'San Rafael', 'Sherman Oaks', 'Silver Spring', 'Westborough', 'Westminster', 'Acton', 'Bath', 'Bend', 'Beverly', 'Issaquah', 'Lakewood', 'Marina Del Rey', 'Needham', 'Santa Cruz', 'Sausalito', 'South Jordan', 'Westport', 'Akron', 'Blacksburg', 'D�sseldorf', 'Germantown', 'Grand Rapids', 'Kalamazoo', 'Kista', 'Lagos', 'Lisbon', 'Lowell', 'Natick', 'Porto', 'Richmond Hill', 'Southampton', 'Stuttgart', 'Virginia Beach', 'Ashburn', 'Bethlehem', 'Bloomington', 'Boulogne-billancourt', 'Brighton', 'Calabasas', 'Costa Mesa', 'Edison', 'Eindhoven', 'Guildford', 'Hamilton', 'Ithaca', 'Lake Forest', 'Lancaster', 'Lawrence', 'Livermore', 'Morristown', 'Norwich', 'Nottingham', 'Palm Beach Gardens', 'Pompano Beach', 'Suzhou', 'Worcester', 'Yoqne`am `illit', 'Asheville', 'Bel', 'Bridgewater', 'Caesarea', 'Cardiff', 'Carrollton', 'Chelmsford', 'Coventry', 'Duluth', 'Goleta', 'Hanover', 'Hillsboro', 'Leeds', 'Markham', 'Mesa', 'Mill Valley', 'Oulu', 'Redwood Shores', 'Rehovot', 'Reykjav�k', 'Santa Fe', 'Southfield', 'Sterling', 'Walnut Creek', 'Weston', 'Zug', 'Ahmedabad', 'Arlington Heights', 'Bengaluru', 'Bozeman', 'Chevy Chase', 'Des Moines', 'Dulles', 'Frederick', 'Glen Allen', 'G�teborg', 'Ho Chi Minh City', 'Karlsruhe', 'Link�ping', 'Maynard', 'Medford', 'Nanjing', 'Naperville', 'Park City', 'Roseville', 'San Juan Capistrano', 'Saratoga', 'Shelton', 'Solana Beach', 'Torino', 'Tustin', 'Clearwater', 'Del Mar', 'Delft', 'Delhi', 'Doylestown', 'Encino', 'Exton', 'Folsom', 'Frankfurt', 'Galway', 'Haifa', 'Hoboken', 'Hudson', 'Laguna Hills', 'Livingston', 'Melbourne Beach', 'Montclair', 'Montevideo', 'Montpellier', 'Nantes', 'Parsippany', 'Petaling Jaya', 'Potsdam', 'Poway', 'Radnor', 'Riga', 'Roanoke', 'Somerset', 'Spokane', 'Surry Hills', 'Wakefield', 'Warwick', 'West Lafayette', 'White Plains', 'Aberdeen', 'Allentown', 'Bucharest', 'Cairo', 'Carmel', 'Chatsworth', 'Coral Gables', 'Frisco', 'Huntington Beach', 'Jena', 'Kent', 'Kolkata', 'Krak�w', 'Kyiv', 'Lawrenceville', 'Lenexa', 'Lisle', 'Lod', 'Long Beach', 'Makati', 'Marietta', 'Middleton', 'Northbrook', 'Orange', 'Porto Alegre', 'Red Bank', 'Roma', 'Salem', 'Temecula', 'Toledo', 'Turku', 'Westwood', 'Auburn', 'Beirut', 'Belgrade', 'Bilbao', 'Bloomfield Hills', 'Bologna', 'Branford', 'Bratislava', 'Carson City', 'Cedar Rapids', 'Chantilly', 'Cranbury', 'Davis', 'East Hartford', 'Golden', 'Haidian', 'Hartford', 'Heidelberg', 'Hermosa Beach', 'Itasca', 'It�', 'Kennesaw', 'Loveland', 'Maple Grove', 'Marseille', 'Mckinney', 'Milford', 'Minato', 'Monmouth Junction', 'Plymouth Meeting', 'Quincy', 'Riverside', 'Rogers', 'San Luis Obispo', 'Springfield', 'Tampere', 'Tartu', 'Trondheim', 'Valbonne', 'Ventura', 'Walnut', 'Wroclaw', 'Accra', 'Alachua', 'American Fork', 'Amherst', 'Antwerp', 'Basel', 'Bentonville', 'Burnsville', 'Daresbury', 'Eagan', 'Fishers', 'Florence', 'Fort Lee', 'Gent', 'Grenoble', 'Guilford', 'Hod Hasharon', 'Horsham', 'Independence', 'Kampala', 'Lahore', 'Lake Oswego', 'Laval', 'Lebanon', 'Ljubljana', 'Long Island City', 'Manhattan', 'Missoula', 'Newbury', 'Newtown', 'Owings Mills', 'Rennes', 'Rolling Meadows', 'San Leandro', 'Schaumburg', 'Seminole', 'Seville', 'Skokie', 'Stony Brook', 'Sugar Land', 'Tallahassee', 'Thousand Oaks', 'Tualatin', 'Utrecht', 'Westford', 'Wexford', 'Windsor', 'Winnipeg', 'Winston Salem', 'Winter Park', 'Woodinville', 'Agoura Hills', 'Anaheim', 'Anchorage', 'Beachwood', 'Bellingham', 'Blue Bell', 'Boxborough', 'Camarillo', 'Chanhassen', 'Chaoyang', 'Chesterfield', 'Clifton', 'Corte Madera', 'Corvallis', 'Deerfield Beach', 'El Dorado Hills', 'Foothill Ranch', 'Fort Washington', 'Hardwick', 'Haryana', 'Hollywood', 'Johannesburg', 'Kelowna', 'Kenansville', 'K�ln', 'Laguna Beach', 'Leiden', 'Leipzig', 'Marlton', 'Mission Viejo', 'Morgan Hill', 'Mount Pleasant', 'Napa', 'New Albany', 'North Andover', 'North Billerica', 'Novato', 'Olathe', 'Or Yehuda', 'Oxton', 'Phnom Penh', 'Ponte Vedra Beach', \"Rosh Ha'ayin\", 'Scotts Valley', 'Sebastopol', 'South Plainfield', \"St. John's\", 'Suwanee', 'Tacoma', 'Uppsala', 'Van Nuys', 'Wa Keeney', 'Warszawa', 'Xiamen', 'Aachen', 'Aarhus', 'Basingstoke', 'Belvedere Tiburon', 'Bloomfield', 'Bordeaux', 'Cedar Park', 'Cheyenne', 'Chico', 'College Park', 'Conway', 'Corona', 'Covington', 'Curitiba', 'Decatur', 'Dhaka', 'Dover', 'Eugene', 'Farmington', 'Florian�polis', 'Flower Mound', 'Fort Myers', 'Frankfurt Am Main', 'Fredericton', 'Fresno', 'Georgetown', 'Grand Cayman', 'Greensboro', 'Haarlem', 'Hackensack', 'Hampton', 'Hanoi', 'Hawthorne', 'Helsingborg', 'Iowa City', 'Issy-les-moulineaux', 'Jackson', 'Lake Mary', 'Lakeland', 'Largo', 'Leesburg', 'Limerick', 'Lindon', 'Los Altos Hills', 'Macclesfield', 'Maplewood', 'Marblehead', 'Melville', 'Mercer Island', 'Middletown', 'Midvale', 'Milton', 'Misgav', 'Monroe', 'M�laga', 'Newtown Square', 'Norfolk', 'Odessa', 'Ogden', 'Palm Harbor', 'Rancho Santa Margarita', 'Redondo Beach', 'Regensburg', 'Southborough', 'Southlake', 'Stuart', 'Tewksbury', 'Tianjin', 'Treviso', 'Turin', 'Vista', 'West Chester', 'Westfield', 'Woodbridge', 'Aix-en-provence', 'Albany', 'Alcobendas', 'Ames', 'Aventura', 'Avon', 'Bonn', 'Bowie', 'Boynton Beach', 'Bracknell', 'Bridgeport', 'Brookline', 'Bundangdong', 'California City', 'Carpinteria', 'Carthage', 'Cheltenham', 'Chongqing', 'Coral Springs', 'Cracow', 'Danville', 'Dayton', 'Deerfield', 'East Lansing', 'East Providence', 'Elmhurst', 'Erlangen', 'Esch-sur-alzette', 'Excelsior', 'Exeter', 'Farmington Hills', 'Florham Park', 'Fort Wayne', 'Fullerton', 'Fuzhou Shi', 'Gloucester', 'Greenwich', 'Guadalajara', 'Hallandale', 'Hasselt', 'Hauppauge', 'Jupiter', 'Kanata', 'Larkspur', 'Leuven', 'Lewes', 'Lille', 'Louvain-la-neuve', 'Lubbock', 'Lugano', 'Lutherville Timonium', 'Luxemburg', 'Malibu', 'Marion', 'Mi Wuk Village', 'Millbrae', 'Neuilly-sur-seine', 'Newport', 'Newtonville', 'Nicosia', 'North Vancouver', 'Pensacola', 'Plainfield', 'Playa Vista', 'Potomac', 'Powell', \"Saint John's\", 'Sammamish', 'Sewickley', 'Simi Valley', 'Sioux Falls', 'Solna', 'State College', 'Subiaco', 'Sudbury', 'Swindon', 'Thunder Bay', 'Toulouse', 'Towson', 'Vi�a Del Mar', 'Wallingford', 'Wan Chai', 'West Des Moines', 'West Hartford', 'Williston', 'Woodstock', 'Xian', 'Yardley', 'York', 'Allen', 'Allston', 'Ashland', 'Bainbridge Island', 'Barrington', 'Batavia', 'Bedminster', 'Beltsville', 'Berwyn', 'Bonita Springs', 'Bountiful', 'Brno', 'California', 'Castle Rock', 'Chester', 'City Of Industry', 'Clarkton', 'Cochin', 'Courbevoie', 'Cumberland', 'Cypress', 'C�rdoba', 'Daejeon', 'Darien', 'Darmstadt', 'Dedham', 'Dubendorf', 'Dunwoody', 'Ecublens', 'Edmond', 'El Cajon', 'Erie', 'Falls Church', 'Firenze', 'Fountain Valley', 'Garden City', 'Gateshead', 'Ghent', 'Gilbert', 'Glen Burnie', 'Green Bay', 'Guangdong', 'Hamden', 'Harrisburg', 'Hopkinton', 'Huddersfield', 'Hunt Valley', 'Huntington', 'Jaipur', 'Kelayres', 'Kingston', 'Lab�ge', 'Langhorne', 'Lansing', 'Leawood', 'Lewisville', 'Limassol', 'Lisboa', 'Loughborough', 'Maidenhead', 'Mansfield', 'Mason', 'Merrimack', 'Middlesbrough', 'Milton Keynes', 'Misgav Dov', 'Moffett Field', 'Monrovia', 'Montgomery', 'Moorestown', 'Mougins', 'Murrieta', 'Napoli', 'Ness Ziona', 'New Brunswick', 'Newcastle', 'North Little Rock', 'Norwood', 'Oak Brook', 'Oak Park', 'Oakville', 'Oceanside', 'Orono', 'Orsay', 'Osaka', 'Palma De Mallorca', 'Pasig', 'Port St. Lucie', 'Portola Valley', 'Poznan', 'Praha', 'Rancho Cucamonga', 'Rocklin', 'Round Rock', 'Rye', 'Saint-cloud', 'San Sebasti�n De Los Reyes', 'Sandston', 'Schlieren', 'Secaucus', 'Sheung Wan', 'South Bend', 'Southport', 'Spartanburg', 'Springdale', 'Stafford', 'Stockton', 'Studio City', 'Surrey', 'Swansea', 'Taiwan', 'Tullahoma', 'Valhalla', 'Vernon Hills', 'Vero Beach', 'Verona', 'Wayland', 'Westlake', 'Wheat Ridge', 'Woking', 'Yavne', 'Youngstown', 'A Coru�a', 'Abuja', 'Altadena', 'Altrincham', 'Ambler', 'Amersfoort', 'Ankara', 'Arvada', 'Azusa', 'Bala Cynwyd', 'Ballerup', 'Beaver Creek', 'Bellaire', 'Bellshill', 'Berkeley Heights', 'Berlin-baumschulenweg', 'Bet Shemesh', 'Bidart', 'Bolingbrook', 'Bolton Upon Dearne', 'Boulogne', 'Bras�lia', 'Brea', 'Brescia', 'Bronx', 'Brownsburg', 'Brunswick', 'Bryan', 'Bryn Mawr', 'Buena Park', 'Cagliari', 'Canberra', 'Canton', 'Catania', 'Cedar Knolls', 'Changsha', 'Charlottetown', 'Clinton', \"Coeur D'alene\", 'Coppell', 'Coralville', 'Crestwood', 'Croydon', 'Danbury', 'Danvers', 'Davie', 'Denton', 'Didcot', 'Dundee', 'East Orange', 'East Palo Alto', 'Eatontown', 'Elyria', 'Escondido', 'Essen', 'Eveleth', 'Evergreen', 'Fair Lawn', 'Fargo', 'Feasterville Trevose', 'Foxboro', 'Fredericksburg', 'Frederiksberg', 'Freeport', 'Gardena', 'Gatineau', 'Gdansk', 'Glastonbury', 'Glen Ellyn', 'Grand Prairie', 'Great Neck', 'Greenwood', 'G�za', 'Harrogate', 'Herisau', 'High Point', 'Highland Park', 'Hsinchu', 'Incline Village', 'Innsbruck', 'Irvington', 'Iselin', 'Katy', 'Kazan', 'Kenmore', 'Kochi', 'Kongens Lyngby', 'Kowloon City', 'Laguna Niguel', 'Las Condes', 'Laurel', 'Leicester', 'Liberty Lake', 'Lincolnshire', 'Livonia', 'Lochristi', 'Logan', 'Longwood', 'Mainz', 'Mannheim', 'Martinsried', 'Marysville', 'Maumelle', 'Mechelen-bovelingen', 'Meridian', 'Modena', 'Moncton', 'Monroeville', 'Mont-saint-guibert', 'Monterrey', 'Montreuil', 'Morgantown', 'Murray', 'New Hope', 'Norman', 'North Brunswick', 'North Sydney', 'Northborough', 'Nossa Senhora Das Gra�as', 'Novosibirsk', 'Oak Ridge', 'Oakmont', 'Odense', 'Old Saybrook', 'Olympia', 'Omez', 'Or Akiva', 'Palermo', 'Panama City', 'Paramus', 'Park Ridge', 'Pembroke Pines', 'Pittsford', 'Pleasant Grove', 'Port Washington', 'Prairie Village', 'Preston', 'Providencia', 'Puteaux', 'Ramat Hasharon', 'Rancho Cordova', 'Recife', 'Renton', 'Ridgeland', 'Rochester Hills', 'Roseland', 'Rotherham', 'Royal Oak', 'Saint Augustine', 'San Marcos', 'Sanibel', 'Saskatoon', 'Savage', 'Savannah', 'Schenectady', 'Seal Beach', 'Seongnam', 'Shoreline', 'Snodland', 'Solon', 'Sonoma', 'South Orange', 'St. Charles', 'Stanford', 'Starnberg', 'Suresnes', 'Tarrytown', 'Taunton', 'Teaneck', 'The Hague', 'Toluca Lake', 'Trento', 'Tucker', 'Twinsburg', 'Union', 'Vantaa', 'Wake Forest', 'Wayzata', 'Wichita', 'Wiesbaden', 'Wilkes Barre', 'Willowbrook', 'Wilsonville', 'Windermere', 'Winkelman', 'Woodcliff Lake', 'Wuhan', 'Yorba Linda', 'Zafirovo', 'Zaragoza', 'Zhuhai', 'Aalborg', 'Adelaide', 'Alamo', 'Allendale', 'Altamonte Springs', 'Amarillo', 'Amstelveen', 'Anderson', 'Apple Valley', 'Appleton', 'Aptos', 'Atherton', 'Atlantic Highlands', 'Auburndale', 'Audubon', 'Ayer', 'Bandung', 'Bangor', 'Beaconsfield', 'Beaumont', 'Bhubaneswar', 'Blaine', 'Bochum', 'Bondi', 'Bonsall', 'Bossier City', 'Bowling Green', 'Braintree', 'Brandon', 'Braunschweig', 'Breukelen', 'Brevard', 'Brookfield', 'Buffalo Grove', 'Camberley', 'Canandaigua', 'Canterbury', 'Carbondale', 'Cardiff By The Sea', 'Carlisle', 'Carlstadt', 'Casablanca', 'Caxias Do Sul', 'Cedar City', 'Chagrin Falls', 'Chandigarh', 'Changzhou', 'Charlestown', 'Chaska', 'Cherry Hill', 'Chino', 'Clyde', 'Coimbr�', 'Colchester', 'Cold Spring Harbor', 'Coleraine', 'College Station', 'Collinsville', 'Columbia City', 'Cranston', 'Crown Point', 'Cuyahoga Falls', 'Dartmouth', 'De Armanville', 'Delaware City', 'Delta', 'Denville', 'Derby', 'Dongan', 'Dortmund', 'Dorval', 'Eagle', 'East Brunswick', 'East Greenbush', 'Eau Claire', 'Edwardsville', 'Ekaterinburg', 'El Paso', 'Elk Grove Village', 'Enschede', 'Etobicoke', 'Euclid', 'Everett', 'E�lingen', 'Fairport', 'Farnborough', 'Ferndale', 'Fort Mill', 'Freiburg', 'Fribourg', 'Garden Grove', 'Gdynia', 'Gig Harbor', 'Girona', 'Glen Cove', 'Gold Coast', 'Goodyear', 'Goshen', 'Gosselies', 'Grafton', 'Granada', 'Grand Forks', 'Grand Junction', 'Grapevine', 'Grayslake', 'Greenbelt', 'Groningen', 'Guatemala City', 'Hampton Falls', 'Hastings', 'Hatfield', 'Heilbronn', 'Herlev', 'Herriman', 'Highland', 'Hilliard', 'Hillsborough', 'Hingham', 'Hinsdale', 'Hoffman Estates', 'Holmdel', 'Holon', 'Homewood', 'Idaho Falls', 'Indore', 'Inglewood', 'Islamabad', 'Jericho', 'Jinan', 'Joinville', 'Joplin', 'Jyv�skyl�', 'Kadima', 'Kahului', 'Kaiserslautern', 'Karachi', 'Kefar Netter', 'Kyoto-shi', 'Ladera Ranch', 'Lanham', 'League City', 'Leamington Spa', 'Levittown', 'Libertyville', 'Lincolnwood', 'Linz', 'Lynchburg', 'Lyndhurst', 'Lyndonville', 'Lyngby', 'Lysaker', 'Macon', 'Mahwah', 'Maia', 'Manama', 'Mandaluyong', 'Marlow', 'Martinsburg', 'Mcdonough', 'Medell�n', 'Medfield', 'Mendota', 'Mendoza', 'Metuchen', 'Middlebury', 'Midland', 'Midlothian', 'Migdal Hameq', 'Minsk', 'Miramar Beach', 'Montrose', 'Montrouge', 'Montvale', 'Mooresville', 'Moorpark', 'Morris Plains', 'Mount Laurel', 'Mount Vernon', 'Murcia', 'Muskegon', 'M�rida', 'Nagpur', 'Nes Ziyona', 'New Canaan', 'New Castle', 'New Providence', 'Newport News', 'Newton Center', 'Ngahere', 'Nice', 'North Bergen', 'North Miami Beach', 'North Palm Beach', 'Northern Washington Co', 'Northridge', 'No�in', 'Nuremberg', 'Oldenburg In Holstein', 'Oldsmar', 'Ontario', 'Pacific Palisades', 'Palaiseau', 'Palatine', 'Palm Coast', 'Palm Desert', 'Palm Springs', 'Paoli', 'Paterna', 'Peabody', 'Pelham', 'Penang', 'Peoria', 'Peterborough', 'Pisa', 'Pittsburg', 'Plainview', 'Point Pleasant Beach', 'Poole', 'Portage', 'Pozuelo De Alarc�n', 'Prahran', 'Rancho Dominguez', 'Rapid City', 'Raynham', 'River Falls', 'Riyadh', 'Rockland', 'Rockledge', 'Rohnert Park', 'Rolling Hills Estates', 'Romeoville', 'Rosamond', 'Roselle', 'Rutherford', 'Saginaw', 'Saint Cloud', 'Saint George', 'San Jos�', 'San Sebastian', 'Sandnes', 'Sandwich', 'Saratoga Springs', 'Scranton', 'Secunderabad', 'Shawnee Mission', 'Shenyang', 'Sherwood', 'Shibuya', 'Short Hills', 'Shreveport', 'Slough', 'Snohomish', 'South Charleston', 'South Melbourne', 'Southern Md Facility', 'Split', 'Spring', 'Springville', 'Starkville', 'Stellenbosch', 'Sterling Heights', 'Stevensville', 'Stockbridge', 'Stockport', 'Stoke-on-trent', 'Sundsvall', 'S�vres', 'Tel Aviv-yafo', 'Tenafly', 'Timisoara', 'Tralee', 'Tyngsboro', 'T�bingen', 'Ulm', 'Ume�', 'Union City', 'Upper Heyford', 'Upper Saddle River', 'Urbandale', 'Valparaiso', 'Vaughan', 'Vejle', 'Vellore', 'Venezia', 'Victor', 'Visalia', 'Waco', 'Warminster', 'Warrenton', 'Webster', 'Welwyn Garden City', 'Wesley Chapel', 'West Bridgewater', 'West Henrietta', 'West Orange', 'Western Junction', 'Westmount', 'Weymouth', 'Williamsburg', 'Wilmslow', 'Wilton', 'Wimbledon', 'Wixom', 'Wooster', 'W�rzburg', 'Yekaterinburg', 'Yonkers', 'Zagreb', 'Zeeland', 'Zhengzhou', 'Zwijnaarde', '�vry', 'Abbotsford', 'Abercynon', 'Abilene', 'Abu Dhabi', 'Acworth', 'Aiea', 'Alderley Edge', 'Aldershot', 'Alicante', 'Allen Park', 'Aller�d', 'Alviso', 'Amersham', 'Ancona', 'Angier', 'Ankeny', 'Antwerpen', 'Arcadia', 'Arcueil', 'Asheboro', 'Ashkelon', 'Aspen', 'Astoria', 'Astrakhan', 'Atlantic Beach', 'Atwater', 'Auburn Hills', 'Auburn University', 'Avondale', 'Baar', 'Babraham', 'Bakersfield', 'Baku-baladshary', 'Bangalore City', 'Barneveld', 'Barre', 'Barrie', 'Basking Ridge', 'Battle Ground', \"Be'er Sheva\", 'Beaufort', 'Bellefonte', 'Bene Beraq', 'Benton', 'Bergamo', 'Bertrange', 'Biddeford Pool', 'Bielefeld', 'Bielsko-biala', 'Binton', 'Birkenhead', 'Bi�vres', 'Bluffton', 'Bohemia', 'Bolzano', 'Boone', 'Boston Spa', 'Bradenton', 'Bradford', \"Braine-l'alleud\", 'Brampton', 'Brantford', 'Brecksville', 'Bremen-vegesack', 'Brentford', 'Bridgeville', 'Brockton', 'Brossard', 'Bruges', 'Brunn Am Gebirge', 'Bruxelles', 'Buford', 'Caerphilly', 'Camberwell South', 'Camborne', 'Camden', 'Campinas', 'Carson', 'Casper', 'Cebu City', 'Cedar Grove', 'Cedar Valley', 'Century City', 'Cerritos', \"Champagne-au-mont-d'or\", 'Chatham', 'Chatswood', 'Cheadle', 'Chemnitz', 'Chepstow', 'Chertsey', 'Chesapeake', 'Cheshire', 'Chiang Mai', 'Chiasso', 'Chilworth', 'China', 'Chippendale', 'Chippenham', 'Christchurch', 'Chula Vista', 'Clapiers', 'Clarence', 'Clark', 'Clermont-ferrand', 'Clifton Park', 'Clive', 'Clovis', 'Cluj', 'Cocoa', 'Coimbatore', 'Coimbra', 'Collegeville', 'Collingswood', 'Collingwood', 'Columbia Falls', 'Commerce', 'Cordova', 'Corpus Christi', 'Corrales', 'Covina', 'Crestone', 'Crook Of Devon', 'Cuenca', 'Cumming', 'Daegu', 'Daly City', 'Davao City', 'Davenport', 'Davidson', 'Daytona Beach', 'De Pere', 'Dearborn Heights', 'Deer Park', 'Delafield', 'Delaware', 'Des Plaines', 'Diamond Bar', 'Diepenbeek', 'Dornbirn', 'Downers Grove', 'Downingtown', 'Duarte', 'Dubuque', 'Duncan', 'Dunfermline', 'Durango', 'D�n Laoghaire', 'Earth City', 'Easley', 'East Granby', 'East Greenwich', 'East Setauket', 'East Stroudsburg', 'East Taunton', 'Ede', 'Edgewater', 'Egg Harbor Township', 'Eight Mile Plains', 'El Cerrito', 'Elgin', 'Elk Grove', 'Elk River', 'Elkhart', 'Ellicott City', 'Ely', 'England', 'Ernakulam', 'Evansville', 'Even Yehuda', 'Fairbanks', 'Fairhope', 'Fairmont', 'Falkenberg', 'Fall River', 'Falmouth', 'Fareham', 'Farmingdale', 'Fitchburg', 'Flagstaff', 'Flemington', 'Florida', 'Fornebu', 'Fort Smith', 'France', 'Franklin Furnace', 'Freedom', 'Frensham', 'Friendswood', 'Fulton', 'Galesburg', 'Gardner', 'Garza Garc�a', 'Gentbrugge', 'Gentilly', 'Gentofte', 'Gen�ve', 'George Town', 'Gerasdorf Bei Wien', 'Ghaziabad', 'Gibraltar', \"Giv'atayim\", 'Glen Mills', 'Glencoe', 'Glendora', 'Glenview', 'Glenwood', 'Goa', 'Goffstown', 'Gold River', 'Goldsboro', 'Grand Blanc', 'Granville', 'Graton', 'Graz', 'Great Falls', 'Gresham', 'Groton', 'Guelph', 'Guimar�es', 'G�ttingen', 'Hadley', 'Hagerstown', 'Haikou', 'Halfweg', 'Halle An Der Saale', 'Harrison', 'Hattiesburg', 'Havertown', 'Hayes', 'Haymarket', 'Hazelwood', 'Hazleton', 'Healdsburg', 'Hefei', 'Hendersonville', 'Henley On Thames', 'Hennigsdorf', 'Henniker', 'Heverlee', 'Hicksville', 'Hillside', 'Hilton Head Island', 'Hilversum', 'Hobart Town', 'Hockessin', 'Holden', 'Holliston', 'Hood River', 'Houghton Le Spring', 'Hove', 'Huntersville', 'Huntington Station', 'Hutchinson', 'Hvidovre', 'Hyannis Port', 'H�rsholm', 'Iasi', 'Ikeja', 'Ilmenau', 'Ismaning', 'Ivry-sur-seine', 'Ivyland', 'Izmir', 'Jamaica Plain', 'Jamestown', 'Janesville', 'Jasper', 'Jeddah', 'Jefferson', 'Jessup', 'Johnston', 'Jouy-en-josas', 'Jo�o Pessoa', 'Jujuy', 'J�nk�ping', 'Karlstad', 'Kathmandu', 'Katowice', 'Kenilworth', 'Kennebunk', 'Kennewick', 'Kensington', 'Kilkenny', 'Kings Langley', 'Kissimmee', 'Kloten', 'Knutsford', 'Kristiansand', 'Kunshan', 'K�benhoved', 'La Canada Flintridge', 'La Ciotat', 'La Mesa', 'Lake Geneva', 'Lake Havasu City', 'Landshut', 'Langley-on-tyne', 'Lannion', 'Lansdale', 'Lappeenranta', 'Las Cruces', 'Las Rozas', 'Latham', 'Le Pecq', 'Le Plessis-robinson', 'Lekki', 'Leonberg', 'Leopardstown', 'Lethbridge', 'Leudelange', 'Lewiston', 'Le�n', 'Limoges', 'Lincoln Park', 'Linlithgow', 'Little Elm', 'Lkan', 'Logro�o', 'Loma Linda', 'Longueuil', 'Loughton', 'Louisiana', 'Loves Park', 'Lowestoft', 'Lucca', 'Lule�', 'Lutz', 'Luzern', 'Lynnwood', 'Magdeburg-rothensee', 'Maitland', 'Malakoff', 'Malma', 'Manassas', 'Manila', 'Martinez', 'Marton-in-cleveland', 'Massy', 'Matar�', 'Matosinhos', 'Mauldin', 'Maynooth', 'Mechanicsburg', 'Medina', 'Meiningen', 'Metairie', 'Mid Florida', 'Middlefield', 'Midview City', 'Milano', 'Minnesota City', 'Mobile', \"Modi'in\", 'Mohali', 'Mojave', 'Monheim', 'Monterey Park', 'Moraga', 'Morganton', 'Morges', 'Morton Grove', 'Mount Arlington', 'Mount Kisco', 'Mountainside', 'Mt Pleasant', 'Mundelein', 'Muscle Shoals', 'Myrtle Beach', 'Mysore', 'Nampa', 'Nanaimo', 'Nanchang', 'Nantong', 'Nedlands', 'Neshkoro', 'New Lenox', 'New London', 'New Windsor', 'Newark Valley', 'Newberry', 'Newbury Park', 'Newburyport', 'Newhaven', 'Newnan', 'Newton-le-willows', 'Nizhniy Novgorod', 'Norristown', 'North Canton', 'North Charleston', 'North Hollywood', 'North Kingstown', 'North Reading', 'North Salt Lake', 'Northampton', 'Northfield', 'Norwell', 'Notting Hill', 'Novi', 'N�mes', 'O Fallon', 'Orangeburg', 'Orchard Park', 'Orinda', 'Orleans', 'Osborne', 'Osterville', 'Oviedo', 'Owensboro', 'Oxnard', 'Paisley', 'Palm Bay', 'Palm Beach', 'Pan De Az�car', 'Panama City Beach', 'Paradise Valley', 'Paran�', 'Pasching', 'Paso Robles', 'Passau', 'Paterna De Rivera', 'Peachtree City', 'Pearl River', 'Pembroke', 'Petersburg', 'Pflugerville', 'Pikesville', 'Pinckney', 'Pine Bluff', 'Pine Brook', 'Piscataway', 'Pittsfield', 'Plainsboro', 'Plan-les-ouates', 'Plattsburgh', 'Pleasant Hill', 'Pleasantville', 'Ponte Vedra', 'Pontypridd', 'Porsgrunn', 'Port Chester', 'Port Orange', 'Port Saint Lucie', 'Princeton Junction', 'Puchong New Village', 'Pullman', 'Purcellville', 'Puyallup', 'P�r', 'Qingdao', 'Qingdao Shi', 'Quakertown', 'Quarry Bay', 'Quebeck', 'Queens', 'Racine', 'Ramalhal', 'Ramonville-saint-agne', 'Rancho Mirage', 'Red Deer', 'Renens', 'Ridgefield', 'Rijswijk', 'Ringwood', 'Rishon Le Zion', 'Risskov', 'Riverview', 'Robbinsville', 'Rockford', 'Rockport', 'Rockville Centre', 'Roppongi', 'Roskilde', 'Roslyn Heights', 'Rostock', 'Roubaix', 'Runcorn', 'Saint Albans', 'Saint John', 'Saint Laurent', 'Salford', 'Salina', 'Salisbury', 'Salmiya', 'San Anselmo', 'Sandpoint', 'Sanford', 'Santa Rosa Beach', 'Santa Ynez', 'Santiago De Chuco', 'Santo Domingo Zanatepec', 'Satellite Beach', 'Sayreville', 'Scottsville', 'Sebastian', 'Selma', 'Shawnee', 'Shelburne', 'Shelbyville', 'Sherwood Park', 'Siem Reap', 'Simsbury', 'Sioux City', 'Sittingbourne', 'Skopje', 'Sligo', 'Smyrna', 'Snoqualmie', 'Snyder', 'Solihull', 'Sorocaba', 'South Glastonbury', 'South Hackensack', 'Southbank', 'Southbury', 'Southern Pines', 'Squamish', 'Staines-upon-thames', 'Staten Island', 'Stevenson Ranch', 'Stillwater', 'Stockton-on-tees', 'Stone Mountain', 'Stoneham', 'Stow', 'Strasbourg', 'Strassen', 'Streamwood', 'Sullivans Island', 'Summit', 'Sun Prairie', 'Sunderland Bridge', 'Sunrise', 'Superior', 'Surbiton', 'Sutton Saint James', 'Syosset', 'Szczecin', 'Taastrup', 'Tarboro', 'Tarpon Springs', 'Tarzana', 'Taylors', 'Terre Haute', 'Tewkesbury', 'Texas', 'Thane', 'The Woodlands', 'Thiais', 'Tigard', 'Tinley Park', 'Tirat Karmel', 'Topeka', 'Torun Polnocny', 'Tours-en-vimeu', 'Trenton', 'Tring', 'Trivandrum', 'Troms�', 'Trumbull', 'Tukwila', 'Tumwater', 'Tunis', 'Twickenham', 'Ultimo', 'Uniondale', 'Universal City', 'Ury', 'Utah', 'Vadodara', 'Valladolid', 'Valletta', 'Vauxhall', 'Vientiane', 'Villach', 'Villanova', 'Villeurbanne', 'Vimercate', 'V�ster�s', 'Waconia', 'Wadsworth', 'Wageningen', 'Waitsfield', 'Wales', 'Walldorf', 'Warren', 'Warrendale', 'Warrington', 'Waterbury', 'Waterford', 'Watford', 'Waukesha', 'Waverly', 'Waxhaw', 'Wenham', 'West Bend', 'West Caldwell', 'West End', 'West Haven', 'West Hills', 'West Jordan', 'West Linn', 'West Roxbury', 'West Sacramento', 'Weybridge', 'Whippany', 'Whitby', 'White Bear Lake', 'White Horse Beach', 'White River Junction', 'Whitewater', 'Wilbraham', 'Williamstown', 'Winterthur T�ss', 'Witney', 'Wollongong', 'Wolverhampton', 'Woodbury', 'Woodridge', 'Woodside', 'Wuhu', 'Wynnewood', 'Yaba', 'Yangon', 'Yangzhou', 'Yehud', 'Yerevan', 'Ypsilanti', 'Yuba City', 'Zellik', '�cully', \"'s-hertogenbosch\", '6 October City', 'Abertillery', 'Abidjan', 'Ad Dammam', 'Admington', 'Admiralty', 'Affula', 'Ahmadabad', 'Aiken', 'Ajax', 'Alabaster', 'Albert', 'Albertville', 'Albion Park', 'Alcester', 'Alcorc�n', 'Alcoy', 'Aldergrove', 'Alderley Park', 'Aldermaston', 'Alfreton', 'Alkmaar', 'Alliance', 'Allison Park', 'Alma', 'Almere', 'Alpine', 'Altavilla Vicentina', 'Alton Barnes', 'Alva', 'Alvorada', 'American Falls', 'Amesbury', 'Amite', 'Amityville', 'Anacortes', 'Andheri', 'Angel Fire', 'Angeles City', 'Angola', 'Ankeveen', 'Anna', 'Annandale', 'Annecy', 'Ansan', 'Ansonia', 'Anth�e', 'Antigo', 'Antioch', 'Antioquia', 'Apex', 'Apollo', 'Ar Riyadh', 'Arbent', 'Arcata', 'Archamps', 'Ardmore', 'Arenzano', 'Arequipa', 'Armadale', 'Armes', 'Armonk', 'Arnhem', 'Arnold', 'Arruda Dos Vinhos', 'Artarmon', 'Arusha', 'Asbury Park', 'Aschheim', 'Ascot', 'Ashdod', 'Ashford', 'Asiago', 'Asker', 'Asti', 'Athlone', 'Atlantic City', 'Attleboro Falls', 'Aurangabad', 'Aveiro', 'Avenal', 'Avoca', 'Avon Park', 'Avon-les-roches', 'Avondale Estates', 'Awka', 'Axbridge', 'Aydie', 'Ayr', 'Baarn', 'Bacup', 'Baden', 'Baesweiler', 'Bagamoyo', 'Bagneux', 'Bailey', 'Baku', 'Balbriggan', 'Baldwin Park', 'Baldwinsville', 'Balerna', 'Ballsbridge', 'Ballstad', 'Ballymoe', 'Balmain', 'Bamberg', 'Ban Nong Kong Chak', 'Banbury', 'Bankok', 'Baoji', 'Bar Harbor', 'Bar Hill', 'Baracaldo', 'Barendrecht', 'Barhamsville', 'Barney', 'Barrowford', 'Bastrop', 'Batesville', 'Baxter', 'Bay Shore', 'Bayonne', 'Baytown', 'Bayville', 'Bear', 'Beaucouz�', 'Beauzelle', 'Beckingham', 'Beech Island', 'Beira', 'Beit-shemesh', 'Bel Air', 'Belcamp', 'Belgaum', 'Belleair Beach', 'Belleville', 'Bellflower', 'Belmont-sur-lausanne', 'Beloit', 'Benicia', 'Bensalem', 'Bensheim', 'Benson', 'Bentley', 'Benton Harbor', 'Beppu', 'Bergisch Gladbach', 'Berkeley Springs', 'Bermondsey', 'Bern', 'Bernalillo', 'Bernardsville', 'Bernried', 'Bernville', 'Berthoud', 'Besan�on', 'Bet Halevi', 'Bethany', 'Bethany Beach', 'Bethel', 'Bethel Park', 'Bettembourg', 'Bhandup', 'Bicester', 'Bideford', 'Bierges', 'Bietigheim-bissingen', 'Bigfork', 'Billancourt', 'Billings', 'Bingen', 'Bioggio', 'Birdsboro', 'Birker�d', 'Bismarck', 'Bizau', 'Black Mountain', 'Blackburn', 'Blackrock', 'Blackshear', 'Blind River', 'Bloemfontein', 'Bloomingdale', 'Bloomsburg', 'Blue Point', 'Blumenau', 'Blyth', 'Blythe', 'Boadilla Del Monte', 'Bobcaygeon', 'Bodafors', 'Boecillo', 'Boerne', 'Bolivar', 'Bolton', 'Bombay', 'Bonanza', 'Bonheiden', 'Bonneville', 'Boom', 'Booneville', 'Boonton', 'Boonville', 'Borehamwood', 'Bormujos', 'Boskoop', 'Botafogo', 'Botany', 'Boucherville', 'Boulder City', 'Boulder Creek', 'Boulevard', 'Bournemouth', 'Boyes Hot Springs', 'Bozen', 'Bragan�a', 'Brainerd', 'Brand', 'Brandywine', 'Branson', 'Brasil', 'Brasov', 'Bray', 'Breinigsville', 'Brenham', 'Brewster', 'Briarcliff Manor', 'Brick', 'Bridgehampton', 'Bridgend', 'Brillion', 'Bristow', 'Bromborough', 'Brook Park', 'Brookhaven', 'Brookings', 'Brookshire', 'Browns Mills', 'Brownsboro', 'Brownville', 'Bryanston', 'Bryant', 'Bryson', 'Buctouche', 'Buda', 'Buda�rs', 'Budd Lake', 'Buderim', 'Buea', 'Buena', 'Bundoora', 'Bunnik', 'Burleigh Heads', 'Burnet', 'Burnley', 'Burtonsville', 'Busan', 'Bushey', 'Bustan Hagalil', 'Butler', 'Bydgoszcz', 'B�gles', 'Cabarete', 'Cabo San Lucas', 'Cadillac', 'Cadiz', 'Caernarfon', 'Cagnes-sur-mer', 'Calcutta', 'Calmar', 'Calverton', 'Cambori�', 'Cambria', 'Cambridge City', 'Camillus', 'Camp Hill', 'Campbellsville', 'Campeche', 'Canal Flats', 'Canfield', 'Cannington', 'Cannock', 'Canoas', 'Canoga Park', 'Canonsburg', 'Cantanhede', 'Cantemir', 'Canton Center', 'Canyon Country', 'Canyon Lake', 'Caparica', 'Cape Coral', 'Cape Girardeau', 'Capitol Heights', 'Capurso', 'Caracas', 'Carleton Place', 'Carmarthen', 'Carmel Valley', 'Carmichael', 'Carnegie', 'Carol Stream', 'Cartaxo', 'Casselberry', 'Castelfranco Veneto', 'Castelplanio', 'Castignano', 'Castine', 'Castlebar', 'Castleblayney', 'Castleton', 'Castricum', 'Causeway Bay', 'Cave City', 'Cedar Falls', 'Center', 'Centerport', 'Centerville', 'Central Falls', 'Central Valley', 'Centralia', 'Centreville', 'Centro', 'Centurion', 'Cerda�ola', 'Ceres', 'Cergy-pontoise', 'Chadds Ford', 'Chalfont', 'Chamali�res-sur-loire', 'Champlin', 'Changshu', 'Chappaqua', 'Charlbury', 'Charles Town', 'Chaville', 'Cheadle Hulme', 'Cheboksary', 'Chelsea', 'Chelyabinsk-40', 'Cheraw', 'Cheshunt', 'Chester Heights', 'Chesterland', 'Chesterville', 'Chestnut Hill', 'Chetumal', 'Chevalet', 'Chewton Mendip', 'Chi', 'Chiba', 'Chicago Ridge', 'Chichester', 'Chicora', 'Chihuahua', 'Chipping Norton', 'Chisinau', 'Chislehurst', 'Chonburi', 'Christiansburg', 'Ch�tillon', 'Circleville', 'Cirencester', 'Cison Di Valmarino', 'Citrus Heights', 'Ciudad Real', 'Clare', 'Claremont', 'Clarence Center', 'Clarenville', 'Clarion', 'Clarksville', 'Clayton', 'Clear Lake', 'Cleburne', 'Clever', 'Clifton Heights', 'Clinton Township', 'Closter', 'Cluny', 'Coal City', 'Cockeysville', 'Cocoa Beach', 'Coffeyville', 'Cohasset', 'Col', 'Coldwater', 'Colleyville', 'Collierville', 'Coloma', 'Colombo', 'Colomiers', 'Colonial Heights', 'Colorado City', 'Columbiana', 'Commerce Township', 'Como', 'Compi�gne', 'Cona', 'Congers', 'Congleton', 'Conifer', 'Connellys Springs', 'Conroe', 'Coombs', 'Copacabana', 'Coram', 'Coraopolis', 'Corby', 'Corinth', 'Cornwell', 'Cortlandt Manor', 'Cotati', 'Cotia', 'Cottage Grove', 'Cottesloe', 'Cotuit', 'Courtenay', 'Coushatta', 'Cou�ron', 'Cowes', 'Cranfield', 'Crawley', 'Cree', 'Creedmoor', 'Cresskill', 'Creswell', 'Crofton', 'Croissy-beaubourg', 'Crook', 'Cross Hands', 'Crosswicks', 'Croton On Hudson', 'Crozet', 'Crystal Lake', 'Crystal River', 'Cuajimalpa', 'Cuarte De Huerva', 'Cuautitl�n Izcalli', 'Cumbernauld', 'Cundinamarca', 'Curepipe', 'Cwmbran', 'Cyberport', 'Cymer', 'C�ceres', 'Dacono', 'Dacula', 'Dalian Shi', 'Dalston', 'Damansara New Village', 'Damascus', 'Damastown', 'Danderyd', 'Dandong', 'Dania', 'Dar Es Salaam', 'Darbhanga', 'Darjeeling', 'Dayville', 'De Goorn', 'De Soto', 'Del Valle', 'Den Haag', 'Denham Springs', 'Denpasar', 'Derio', 'Derry', 'Derwood', 'Destin', 'Deuil-la-barre', 'Deurle', 'Deurne', 'Devens', 'Deventer', 'Devizes', 'Dewsbury', 'Dickinson', 'Dickson', 'Diegem', 'Diemen', 'Dillon', 'Dinas Powys', 'Dki Jakarta', 'Dnepropetrovsk', 'Dnipropetrovsk', 'Docklands', 'Dongguancun', 'Donostia-san Sebasti�n', 'Doral', 'Dorking', 'Dos Hermanas', 'Douglas', 'Douglasville', 'Drexel Hill', 'Drummondville', 'Duisburg And Hamborn', 'Dumfries', 'Dunkirk', 'Dunstable', 'Durban', 'Duvall', 'D�rth', 'East Amherst', 'East Bend', 'East China', 'East Elmhurst', 'East Hanover', 'East Northport', 'East Peoria', 'East Perth', 'East Rochester', 'East Rutherford', 'East Sandwich', 'East Syracuse', 'East Windsor Hill', 'Eastlake', 'Edenbridge', 'Edenton', 'Edmonds', 'Edwards', 'Effingham', 'El Eulma', 'Elche', 'Elkhorn', 'Elkins', 'Elkins Park', 'Elko', 'Elkton', 'Ellesmere Port', 'Ellsworth', 'Elmsford', 'Elstree', 'Emmetten', 'Emporia', 'Enderby', 'Endicott', 'Enfield Lock', 'Ennis', 'Enola', 'Enterprise', 'Epalinges', 'Ephrata', 'Erandio', 'Erfurt-bindersleben', 'Erkrath', 'Erlanger', 'Esbjerg', 'Eschen', 'Espina', 'Esplugas De Llobregat', 'Essex', 'Essex Junction', 'Estado De M�xico', 'Estevan', 'Etchingham', 'Eureka', 'Eurville', 'Euston', 'Euthal', 'Ewing', 'Eysins', 'Fair Oaks', 'Fairborn', 'Fairlawn', 'Fall City', 'Fallston', 'Falun', 'Faridabad', 'Farington', 'Farmers Branch', 'Farmersville', 'Farnham', 'Farnsfield', 'Farra Di Soligo', 'Farrington Gurney', 'Farum', 'Feeding Hills', 'Feldafing', 'Feldkirchen-westerham', 'Fenton', 'Fernandina Beach', 'Ferrara', 'Ferrisburg', 'Ferri�res', 'Finans', 'Finca Elisa', 'Finchley', 'Fisciano', 'Flanders', 'Fleet', 'Fleming Island', 'Flins-sur-seine', 'Flowery Branch', 'Flowood', 'Follina', 'Fontenay-sous-bois', 'Fordingbridge', 'Forest Hills', 'Forest Park', 'Forres', 'Forsyth', 'Fort Atkinson', 'Fort Dodge', 'Fort Mcmurray', 'Fort Meade', 'Fort Mitchell', 'Fort Myers Beach', 'Fort Nelson', 'Fort Ripley', 'Fort Saskatchewan', 'Fort Walton Beach', 'Foshan', 'Fox Lake', 'Frankfort', 'Franklin Park', 'Franklin Square', 'Franktown', 'Fredensborg', 'Fredericia', 'Fredrikstad', 'Freyung', 'Friday Harbor', 'Friedburg', 'Frontenac', 'Frunze', 'Fujisawa', 'Fukuoka', 'Furtwangen', 'Fuzhou', 'Fyshwick', 'F�rth', 'Galveston', 'Gambrills', 'Gan Yoshiya', 'Garbsen', 'Garching Bei M�nchen', 'Gardanne', 'Gardendale', 'Garforth', 'Garland', 'Garrettsville', 'Gastonia', 'Gates Mills', 'Gatesville', 'Gauteng', 'Gauting', 'Gembloux', 'Gem�nden', 'Genk', 'Genova', 'Georgia', 'German', 'Gerning', 'Gif-sur-yvette', 'Gilching', 'Gilly', 'Gilman', 'Gilroy', 'Gladstone', 'Glasnevin', 'Glattbrugg', 'Glenrothes', 'Glenshaw', 'Glostrup', 'Godalming', 'Goes', 'Gojan', 'Gometz-la-ville', 'Goodlettsville', 'Gordon', 'Goregaon', 'Gorinchem', 'Gradignan', 'Grady', 'Graham', 'Grand Haven', 'Grand Ledge', 'Grand-rosi�re', 'Granite Bay', 'Grasse', 'Great Barrington', 'Great Bookham', 'Great River', 'Greeley', 'Greenbrae', 'Greendale', 'Greenfield', 'Greenvale', 'Gretna', 'Griffin', 'Griffith', 'Grimes', 'Grodziec', 'Groot-bijgaarden', 'Grosse Pointe Woods', 'Gro�wallstadt', 'Gruibingen', 'Guanajuato', 'Guapor�', 'Guayabo', 'Guiyang', 'Gujrat', 'Gulberg', 'Gulf Breeze', 'Gurdon', 'Guwahati', 'Gu�rande', 'Gwinn', 'G�menos', 'G�vle', 'Hacienda Heights', 'Hackberry', 'Hackettstown', 'Haddenham', 'Haddonfield', 'Haderslev', 'Hafnarfj�r�ur', 'Hagerman', 'Haidershofen', 'Hailsham', 'Hainau', 'Hainesport', 'Halden', 'Halle-neustadt', 'Halmstad', 'Hamel', 'Hamilton Bay', 'Hammel', 'Hammenh�g', 'Hammersmith', 'Hampden', 'Hampshire', 'Hanford', 'Haninge', 'Hanover Park', 'Harare', 'Harbin', 'Harker Heights', 'Harlech', 'Harrisonburg', 'Harrow On The Hill', 'Harvey', 'Hasbrouck Heights', 'Hatboro', 'Haverhill', 'Hawley', 'Haworth', 'Hayden', 'Haydock', 'Haywards Heath', 'Hazelton', 'Heathrow', 'Heber City', 'Hector', 'Hedehusene', 'Heiloo', 'Heist-op-den-berg', 'Hellerup', 'Helsing�r', 'Hempstead', 'Hengoed', 'Hercules', 'Hermosillo', 'Heroldsberg', 'Herten', 'Herzogenaurach', 'Heslington', 'Hessett', 'Heswall', 'Hickory', 'Hidalgo', 'Higashi-shinagawa', 'Hiller�d', 'Hirschau', 'Hjallerup', 'Hobart', 'Hobe Sound', 'Hoddesdon', 'Hoevelaken', 'Holiday', 'Holliday', 'Holmes Chapel', 'Holstebro', 'Holtzheim', 'Holzgerlingen', 'Homburg', 'Homestead', 'Hond�n De Los Frailes', 'Honfleur', 'Hoofddorp', 'Hoorn', 'Hope', 'Hopkins', 'Hornsby', 'Hornsyld', 'Horseshoe Bay', 'Horten', 'Hoschton', 'Hospitalet De Llobregat', 'Hot Springs National Park', 'Houghton', 'Howell', 'Hubbard', 'Hubei', 'Huddinge', 'Huins', 'Huis Ter Heide', 'Huizhou', 'Humble', 'Humboldt', 'Hummelstown', 'Hun', 'Hundsdorf', 'Huntingdon', 'Hurst', 'Hutto', 'Hvalstad', 'Hyderabad-deccan', 'Hyogo', 'Hyssna', 'H�rn�sand', 'H�rouville-saint-clair', 'Idyllwild', 'Igualada', 'Ilford', 'Illkirch-graffenstaden', 'Imperial', 'Incheon', 'Indaiatuba', 'Indian Rocks Beach', 'Indiana', 'Indio', 'Inman', 'Inola', 'Interlaken', 'Inverness', 'Inyokern', 'Io�nnina', 'Ipswich', 'Isabella', 'Islandia', 'Isques', 'Italy', 'Itzehoe', 'It�harju', 'Ivrea', 'Izurza', 'Jabalpur', 'Jacksonville Beach', 'Jaffa-tel Aviv', 'Jaffrey', 'Jakarta Pusat', 'Jal', 'Jalna', 'Jamison', 'Japan', 'Jenkintown', 'Jenks', 'Jessheim', 'Jiangyan', 'Jiangyin', 'Jiaxing', 'Jinhua', 'Jodhpur', 'Johannesberg', 'Johnson City', 'Joinville-le-pont', 'Jonesboro', 'Joppa', 'Jorhat', 'Joshua Tree', 'Jo�ni�', 'Juiz De Fora', 'Jundia� Do Sul', 'Justin', 'Jyderup', 'J�mtland', 'Kaarina', 'Kafr Saba', 'Kahuku', 'Kajaani', 'Kalangala', 'Kalimoni', 'Kamakura', 'Kampong Tantaya', 'Kanab', 'Kanagawa', 'Kapaa', 'Kapolei', 'Karlskrona', 'Karnes City', 'Kassel', 'Katonah', 'Kaukauna', 'Kaunas', 'Kawasaki Si', 'Kaysville', 'Kearney', 'Kearneysville', 'Kearny', 'Kecskem�t', 'Keego Harbor', 'Keene', 'Kefar Sava', 'Keizer', 'Keller', 'Kemerovo', 'Kempele', 'Kemptville', 'Kendall Park', 'Kendallville', 'Kerrville', 'Keswick', 'Kfar Tavor', 'Kharkov', 'Khopoli', 'Kidderminster', 'Kihei', 'Kilauea', 'Kildare', 'Killeen', 'Kimberley', 'Kimberton', 'Kings Park', 'Kingston Upon Thames', 'Kingstree', 'Kingwood', 'Kinondoni', 'Kinsale', 'Kintore', 'Kittanning', 'Kjoge', 'Klagenfurt', 'Klaipeda', 'Kleinmachnow', 'Kobe', 'Koblenz', 'Kokomo', 'Kolbermoor', 'Kolding', 'Komotin�', 'Kormangala', 'Kors�r', 'Kosice', 'Kovilpatti', 'Krasnoyarsk', 'Kuala Lumpor', 'Kufstein', 'Kula', 'Kunming', 'Kuopio', 'Kure Beach', 'Kyle', 'K�lln-reisiek', \"L'union\", 'La', 'La France', 'La Garenne-colombes', 'La Madeleine', 'La Mirada', 'La Muela', 'La Puente', 'La Rochelle', 'La Tronche', 'Labbeck', 'Lachine', 'Ladson', 'Lages', 'Lahaina', 'Laindon', 'Lake Arthur', 'Lake Charles', 'Lake City', 'Lake Elsinore', 'Lake Linden', 'Lake Placid', 'Lake Wales', 'Lake Worth', 'Lake Zurich', 'Lambertville', 'Land O Lakes', 'Landenberg', 'Lansdowne', 'Larchmont', 'Larnaka', 'Lasalle', 'Lauderhill', 'Laufen', 'Laupheim', 'Le Chesnay', 'Le Kremlin-bic�tre', 'Le Mans', 'Le Petit Paris', 'Le Rheu', 'Ledbury', 'Lees Summit', 'Legnano', 'Lehavim', 'Lehigh Acres', 'Leiderdorp', 'Leigh-on-sea', 'Leighton Buzzard', 'Leiria', 'Leiva', 'Lejre', 'Lemitar', 'Leobersdorf', 'Leoma', 'Leominster', 'Leopoldshafen', 'Les Acacias', 'Leverkusen', 'Lewis Center', 'Liberty', 'Liberty Center', 'Libourne', 'Lieshout', 'Liestal', 'Lilburn', 'Lillestr�m', 'Limhamn', 'Limington', 'Lincroft', 'Lindale', 'Lindau', 'Linden', 'Linthicum Heights', 'Linyi', 'Liszki', 'Litchfield', 'Lithia', 'Lititz', 'Little Falls', 'Little Meadows', 'Little Neck', 'Little River', 'Li�ge', 'Llanfair-dyffryn-clwyd', 'Locust', 'Locust Grove', 'Lombard', 'Lometa', 'Lommel', 'Long Valley', 'Longmeadow', 'Lorca', 'Lorton', 'Los Alamos', 'Louisburgh', 'Lower Nicola', 'Lucerne', 'Ludhiana', 'Ludwigshafen Am Rhein-oggersheim', 'Lugo', 'Lumberton', 'Lummen', 'Lunenburg', 'Luton', 'Lutsk', 'Lviv', 'Lyle', 'Lymington', 'Lymm', 'Lynbrook', 'Lyss', 'L�beck', 'L�gst�r', 'L�neburg', 'L�vis', 'M C B H Kaneohe Bay', 'Ma', 'Maarn', 'Maastricht', 'Mabelvale', 'Macedonia', 'Macei�', 'Macungie', 'Madhapur', 'Madison Heights', 'Madisonville', 'Madurai', 'Mafra', 'Maidstone', 'Maine', 'Malvern Wells', 'Mamaroneck', 'Manalapan', 'Manassa', 'Mangalore', 'Manila Heights Subdivision', 'Manitowoc', 'Manno', 'Mansfield Center', 'Manson', 'Manton', 'Mantova', 'Mantua', 'Manukau', 'Manukau City', 'Maple Ridge', 'Maple Valley', 'Mapleton', 'Mar Del Plata', 'Marac�s', 'Marbella', 'Marche-en-famenne', 'Marcus Hook', 'Maribor', 'Maricopa', 'Marigot', 'Marina', 'Marion Station', 'Marke', 'Markyate', 'Maroubra', 'Maro�li', 'Marquette', 'Mars', 'Martillac', 'Maryland Heights', 'Mascot', 'Massagno', 'Massanas', 'Massapequa', 'Massillon', 'Matawan', 'Mather', 'Matlock', 'Matthews', 'Mattoon', 'Maumee', 'Maurepas', 'Mayan Baruch', 'Mc Cordsville', 'Mc Lean', 'Mcalester', 'Mcallen', 'Mchenry', 'Mcminnville', 'Mechanicsville', 'Meerut', 'Melksham', 'Melrose', 'Mendham', 'Mentor', 'Mere', 'Meriden', 'Mesquite', 'Metamora', 'Methuen', 'Metz-tessy', 'Mexicanos', 'Meyreuil', 'Miami Lakes', 'Miamisburg', 'Miass', 'Michigan Center', 'Middleburg', 'Middlesex', 'Midland Park', 'Midrand', 'Midsomer Norton', 'Miesbach', 'Mikkeli', 'Mill Creek', 'Mill Hall', 'Millbrook', 'Milton Bryant', 'Minas Gerais', 'Mineola', 'Mineral Wells', 'Mirandola', 'Mishawaka', 'Mission', 'Mission Hills', 'Missouri City', 'Mitaka', 'Mi�ano Menor', 'Mj�mna', 'Mogadishu', 'Moirans', 'Moline', 'Mombasa', 'Monaca', 'Moncalieri', 'Monona', 'Monroe Township', 'Mont-royal', 'Montauban-de-picardie', 'Montauroux', 'Montebelluna', 'Monterey', 'Montgomeryville', 'Monticello', 'Montmel�', 'Montpelier', 'Montreuil-sous-bois', 'Mora', 'Morgan', 'Morganville', 'Moriarty', 'Morlaix', 'Moscow Mills', 'Moskva', 'Mosman', 'Motley', 'Moultrie', 'Mount Dora', 'Mount Horeb', 'Mount Juliet', 'Mountain Pass', 'Muenchen', 'Muenster', 'Mukwonago', 'Mulgrave', 'Mullan', 'Muntinlupa City', 'Murfreesboro', 'Murphy', 'Muscat', 'Muscatine', 'Musselburgh', 'Mysen', 'M�lndal', 'M�l�y', 'M�nster-sarmsheim', 'M�rignac', 'Naarden', 'Naberezhnyye Chelny', 'Nahant', 'Nairn', 'Naivasha', 'Nanping', 'Nasr City', 'Nasrapur', 'Nassau', 'Natanya', 'Natchitoches', 'National City', 'Naucalpan De Ju�rez', 'Navacchio', 'Nazareth', 'Nazareth Illit', 'Neenah', 'Nelson', 'Neptune', 'Netherlands', 'Neuchatel', 'Neuilly-le-brignon', 'Neustadt An Der Weinstra�e', 'Neutral Bay', 'Nevada City', 'Neve Ilan', 'New Berlin', 'New Brighton', 'New Britain', 'New Buffalo', 'New Concord', 'New Farm', 'New Gloucester', 'New Holland', 'New Jersey', 'New Lagos', 'New Milford', 'New Port Richey', 'New Ross', 'New Town', 'New Waterford', 'New Westminster', 'Newcastle Under Lyme', 'Newfoundland', 'Newington', 'Newmarket', 'Newport Coast', 'Newport-on-tay', 'Newquay', 'Nicholasville', 'Nieuwegein-zuid', 'Nieuwer Amstel', 'Nivelles', 'Nivolas-vermelle', 'Niwot', 'Nizhniy Tagil', 'Noblesville', 'Noisy-le-grand', 'Noisy-le-roi', 'Nokia', 'Noordwijk', 'Nordborg', 'Normal', 'Normanton', 'Norrk�ping', 'Norrt�lje', 'North Adams', 'North Arlington', 'North Augusta', 'North Barrow', 'North Brookfield', 'North Conway', 'North Dartmouth', 'North East', 'North Hampton', 'North Haven', 'North Hills', 'North Kansas City', 'North Liberty', 'North Myrtle Beach', 'North Olmsted', 'North Ridgeville', 'North Tazewell', 'North Versailles', 'North Wales', 'Northvale', 'Nova', 'Novi Sad', 'Nuevo Le�n', 'Nungambakkam', 'Nutts Corner', 'N�rnberg', 'N�rum', 'Oakdale', 'Oakland Park', 'Oaklands', 'Oakleigh', 'Oaks', 'Oberhaching', 'Oberlin', 'Ocala', 'Ocean Springs', 'Octeville-sur-mer', 'Odiham', 'Odintsovo', 'Oeiras', 'Okemos', 'Okmulgee', 'Old Chatham', 'Old Greenwich', 'Old Lyme', 'Oldbury', 'Oldenzaal', 'Olivet', 'Olney', 'Ol�mpia', 'Omiya', 'Omsk', 'Oneonta', 'Onida', 'Oostburg', 'Oosterhout', 'Opelika', 'Oporto', 'Orefield', 'Orland Park', 'Orly', 'Oroville', 'Orpington', 'Osijek', 'Osnabr�ck', 'Osorno', 'Osterreicher', 'Ottawa Lake', 'Owasso', 'Oyster Bay', 'Paddock Wood', 'Paderborn', 'Padua', 'Paducah', 'Pagosa Springs', 'Pahoa', 'Paignton', 'Pala', 'Palm City', 'Palma Del R�o', 'Palmetto', 'Palmyra', 'Pampa', 'Pampisford', 'Pamplona', 'Paragould', 'Pardubice', 'Paris Crossing', 'Parisi', 'Parker', 'Parkersburg', 'Parlier', 'Parma', 'Partille', 'Pasco', 'Patchogue', 'Paterson', 'Patras', 'Paulsboro', 'Pavia', 'Pawtucket', 'Pearland', 'Pedro Leopoldo', 'Pefferlaw', 'Pekin', 'Pell City', 'Pendleton', 'Pennington', 'Pennsauken', 'Peoria Heights', 'Peregian Beach', 'Perg', 'Perm', 'Peru', 'Pescara', 'Pessac', 'Petah Tiqwa', 'Petit-quevilly', 'Petoskey', 'Peynier', 'Pfaffenhofen', 'Phla', 'Phuket', 'Picayune', 'Pickerington', 'Piedmont', 'Pilar De La Horadada', 'Pinedale', 'Pingdu', 'Pinner', 'Pipersville', 'Pitstone', 'Pitt Meadows', 'Pittem', 'Pittsboro', 'Plainville', 'Plaistow', 'Planegg', 'Plant City', 'Plantation', 'Playa Del Rey', 'Pleasant Prairie', 'Pleasant Ridge', 'Plouzan�', 'Plum Branch', 'Plzen', 'Pocopson', 'Pointe-claire', 'Pomeroy', 'Pomona', 'Ponca City', 'Pontault', 'Pontefract', 'Pontevedra', 'Port Allen', 'Port Angeles', 'Port Hueneme Cbc Base', 'Port Huron', 'Port Orchard', 'Port Richey', 'Port Townsend', 'Portmarnock', 'Porto Salvo', 'Post Mills', 'Potter Valley', 'Potts Point', 'Poughkeepsie', 'Poulsbo', 'Prato', 'Prescott', 'Pretoria', 'Prince George', 'Prior Lake', 'Prospect', 'Puchheim', 'Puchong', 'Puc�n', 'Puerto De Andraitx', 'Puerto Madero', 'Puerto Varas', 'Puerto Viejo', 'Punta Gorda', 'Purchase', 'Putnam', 'Puurs', 'Pyle', 'Pyrmont', 'Qiryat Bialik', 'Qiryat Ono', 'Qiryat Shmona', 'Quanzhou', 'Quedgeley', 'Queensbury', 'Quepos', 'Quer�taro', 'Quezon City', 'Quierschied', 'Quilcene', 'Quinlan', 'Quito', 'Quzhou', \"Ra'ananna\", 'Radebeul', 'Radford', 'Ramadan City', 'Ramat Yishai', 'Ramenskoye', 'Ramona', 'Ramotswa', 'Ramsey', 'Rancho Palos Verdes', 'Rancho Santa Fe', 'Randallstown', 'Randburg', 'Ravensburg', 'Rawalpindi Cantonment', 'Rayleigh', 'Red Oak', 'Redding', 'Redlands', 'Reeds Spring', 'Reepham', 'Regau', 'Reggio Nell Emilia', 'Reigate', 'Reinach', 'Rensselaer Falls', 'Retford', 'Reutlingen', 'Revel', 'Revelstoke', 'Rex', 'Rexburg', 'Rialto', 'Ribeir�o Pr�to', 'Richfield', 'Richland', 'Richmond Upon Thames', 'Rickmansworth', 'Ridge Spring', 'Ridgefield Park', 'Ridgewood', 'Ringsend', 'Rio Branco', 'Rio Grande Do Sul', 'Ripon', 'Ripton', 'Rishon Letsiyon', 'Rising Sun', 'River Edge', 'River Forest', 'Riverbank', 'Riverton', 'Roca', 'Rock Hill', 'Rock Island', 'Rock Springs', 'Rockaway', 'Rockfield', 'Rockingham', 'Rockwall', 'Rocky Mount', 'Rocky River', 'Roland', 'Rolle', 'Romainville', 'Romsey', 'Ronkonkoma', 'Rootstown', 'Rosario Del Tala', 'Rosciano', 'Rosebud', 'Rosedale', 'Roslyn', 'Rosmalen', 'Rostov-on-don', 'Rosyth', 'Rotkreuz', 'Rotorua', 'Rouen', 'Round Lake', 'Roxbury', 'Roy', 'Royal Tunbridge Wells', 'Royal Wootton Bassett', 'Royalston', 'Royston', 'Rugby', 'Ruidoso Downs', 'Ruschlikon', 'Rushville', 'Ruskin', 'Russellville', 'Russian Mission', 'Rutland', 'Ryde', 'R�ckeve', 'R�dlin', 'Saanichton', 'Sabetha', 'Sachse', 'Saco', 'Saffron Walden', 'Sagle', 'Sahuarita', 'Saint Andrews', 'Saint Bees', 'Saint Bonaventure', 'Saint Catharines', 'Saint Charles', 'Saint Clair Shores', 'Saint Gallen', 'Saint Helens', 'Saint James', 'Saint Louis Park', 'Saint Michael', 'Saint Peters', 'Saint-aubin-de-m�doc', 'Saint-denis-sur-loire', 'Saint-genis-pouilly', 'Saint-germain-en-laye', 'Saint-gilles', 'Saint-ismier', 'Saint-laurent', 'Saint-lazare-de-bellechasse', 'Saint-louis-et-parahou', 'Saint-martin-des-champs', 'Saint-priest-ligoure', 'Saint-�tienne-vall�e-fran�aise', 'Salaberry-de-valleyfield', 'Salamanca', 'Salerno', 'Salzburg', 'Samara', 'San Benito', 'San Bernardino', 'San Casciano Val Di Pesa', 'San Crist�bal De La Laguna', 'San Dimas', 'San Gabriel', 'San Isidro', 'San Lazzaro', 'San Luis Potos�', 'San Miniato', 'San Pablo', 'San Pedro', 'San Polo', 'San Salvador', 'San Vicente', 'Sandy Hook', 'Sandy Spring', 'Sandyford', 'Sanhe', 'Sankt Gallen', 'Sankt Ruprecht An Der Raab', 'Santa Catarina', 'Santa Clarita', 'Santa Fe Springs', 'Santa Maria', 'Santander', 'Santee', 'Santo Stefano Di Cadore', 'Sarnen', 'Sarpsborg', 'Sartell', 'Sartrouville', 'Sassari', 'Sautee Nacoochee', 'Sawbridgeworth', 'Saybrook', 'Scandia', 'Scarborough', 'Scarsdale', 'Schagen', 'Schalksm�hle', 'Schertz', 'Schiller Park', 'Schindellegi', 'Schuttrange', 'Schuyler Lake', 'Schwarzenbruck', 'Schwechat', 'Schwetzingen', 'Scituate', 'Scoresby', 'Scotch Plains', 'Sea Cliff', 'Seabrook', 'Seafield', 'Seaford', 'Sedgefield', 'Seefeld', 'Seguin', 'Selangor', 'Sellindge', 'Sequim', 'Sergiyev Posad', 'Seri Kembangan', 'Serris', 'Sesto San Giovanni', 'Sevenoaks', 'Seyssinet-pariset', 'Sgonico', 'Shakopee', 'Shandong', 'Shawnee On Delaware', 'Sherbrooke', 'Sheridan', 'Shimla', 'Shipley', 'Shoreditch', 'Shoreham', 'Shrewsbury', 'Shumen', 'Sibiu', 'Sichuan', 'Sidcup', 'Sidney', 'Siena', 'Sierre', 'Signal Hill', 'Siler City', 'Silt', 'Simao', 'Simbario', 'Simferopol', 'Sipoo', 'Siracusa', 'Sisli', 'Site�a', 'Sitges', 'Skanderborg', 'Skarpn�ck', 'Skien', 'Skillman', 'Skipton', 'Skovlunde', 'Sk�vde', 'Slidell', 'Slinfold', 'Smethport', 'Smithton', 'Smithtown', 'Smithville', 'Sm�rumnedre', 'Snaith', 'Sogndal', 'Sohl', 'Solothurn', 'Somers Point', 'Sonceboz', 'Sopot', 'Souderton', 'South Boston', 'South Easton', 'South Grafton', 'South Hadley', 'South Harwich', 'South Kent', 'South Lake Tahoe', 'South Molton', 'South Pasadena', 'South Perth', 'South Richmond Hill', 'South Shields', 'South Windsor', 'South Yarra', 'Southam', 'Southaven', 'Southington', 'Southwark', 'Sparta', 'Spicewood', 'Spoleto', 'Spooner', 'Spring Hill', 'Spring Lake', 'Spring Lake Park', 'Spruce Grove', 'Spur', 'St. Helena', 'St. Pete Beach', 'Stalybridge', 'Stanhope', 'Stanmore', 'Stanton', 'State University', 'Stavanger', 'Steamboat Springs', 'Steinbach', 'Steinhausen', 'Stenl�se', 'Stevenson', 'Stirling', 'Stoke', 'Storrs Mansfield', 'Stoughton', 'Stow Cum Quy', 'Strasburg', 'Stratford', 'Strathaven', 'Strathmore', 'Streator', 'Streetsboro', 'Stuhr', 'Sturgeon Bay', 'Sturtevant', 'Suffern', 'Suffolk', 'Sugar City', 'Sugar Hill', 'Sugarcreek', 'Suhl', 'Sullivan', 'Sulphur', 'Summerland', 'Summit Argo', 'Sun City', 'Sun Valley', 'Sundbyberg', 'Sunset', 'Surabaya', 'Surfers Paradise', 'Sussex', 'Sutton', 'Sutton Coldfield', 'Swanage', 'Swavesey', 'Sykesville', 'Sylmar', 'Sylvania', 'Szeged', 'Sz�kesfeh�rv�r', 'S�lvesborg', 'S�nderborg', 'S�o Leopoldo', 'S�te', 'Taiyuan', 'Takapuna', 'Takoma Park', 'Takoradi', 'Talent', 'Tallinna', 'Tallmadge', 'Tamworth', 'Taramani', 'Targu Jiu', 'Targu-mures', 'Tarragona', 'Tashkent', 'Tavares', 'Taylorsville', 'Teddington', 'Tehachapi', 'Tel Aviv-jaffa', 'Tel Mond', 'Tell Abib', 'Telluride', 'Tema', 'Temple', 'Temple Hills', 'Temuco', 'Ten Sleep', 'Tennessee', 'Terni', 'Terrassa', 'Tetbury', 'Texarkana', 'Thame', 'Thebarton', 'Thessalon�ki', 'Thiensville', 'Thiruvananthapuram', 'Thonon-les-bains', 'Thornton', 'Ticonderoga', 'Tielt', 'Tiller', 'Tilton', 'Tirana', 'Tirat Carmel', 'Tirupur', 'Titusville', 'Tiverton', 'Tofte', 'Tokai', 'Tolland', 'Tomball', 'Toms River', 'Tomsk', 'Tonawanda', 'Tonbridge', 'Tongzhou', 'Tooele', 'Toston', 'Toulon', 'Tower City', 'Townsville', 'Trabuco Canyon', 'Traverse City', 'Tremonton', 'Trieste', 'Trois-rivi�res', 'Troon', 'Trout Lake', 'Trowbridge', 'Truckee', 'Truro', 'Trussville', 'Tsukuba', 'Tuckerton', 'Tulare', 'Tullamore', 'Tumkur', 'Tunbridge Wells', 'Tupelo', 'Turner', 'Turnhout', 'Tuscaloosa', 'Tuskegee', 'Tutzing', 'Tuxtla Gutierres', 'Tyler', 'T�by', 'Ukiah', 'Union Star', 'Unionville', 'Unterhaching', 'Unterpremstatten', 'Unterschlei�heim', 'Upland', 'Upper Marlboro', 'Upplands-v�sby', 'Urbana', 'Usk', 'Uusikaupunki', 'Uzerche', 'Vacaville', 'Valby', 'Valdosta', 'Valhermoso Springs', 'Valley Cottage', 'Valley Village', 'Valrico', 'Varanasi', 'Varna', 'Vaulx-en-velin', 'Venelles', 'Ventnor', 'Verbier', 'Vermillion', 'Verwood', 'Vestal', 'Vevey', 'Vicksburg', 'Vijayawada', 'Villaviciosa De Od�n', 'Villejuif', 'Villeneuve-l�s-b�ziers', 'Vineland', 'Vipper�d', 'Vitacura', 'Vit�ria Do Mearim', 'Vleuten', 'Voiron', 'Vonore', 'Vosselaar', 'V�los', 'V�rl�se', 'V�rmd�', 'V�stra Fr�lunda', 'Waardenburg', 'Wadenswil', 'Waikoloa', 'Waldorf', 'Wallsend-on-tyne', 'Wanaque', 'Wanchai', 'Wangen Im Allg�u', 'Ware', 'Waregem', 'Warner Robins', 'Warrenville', 'Washoe Valley', 'Watford City', 'Watkins', 'Watkinsville', 'Wauconda', 'Wausau', 'Waxahachie', 'Waynesville', 'Wedel', 'Weehawken', 'Weesp', 'Weifang', 'Weihai', 'Weiji', 'Weimar', 'Weingarten', 'Welland', 'Wells', 'Wellsville', 'Wembley', 'Wenatchee', 'Wendelsheim', 'Wenzhou', 'Werl', 'West Babylon', 'West Boothbay Harbor', 'West Chicago', 'West Fargo', 'West Hurley', 'West Kingston', 'West Lake Hills', 'West Los Angeles', 'West Mansfield', 'West Newfield', 'West Newton', 'West Nyack', 'West Saint Paul', 'West Simsbury', 'West Springfield', 'West University Place', 'West Valley City', 'Westbury', 'Westland', 'Westmont', 'Wetaskiwin', 'Wetherby', 'Wethersfield', 'Wetzlar', 'We�ling', 'Wheaton', 'Wheeling', 'Whistler', 'Whitehouse', 'Whiting', 'Whitinsville', 'Wilberforce', 'Wilderswil', 'Wildomar', 'Williamsport', 'Willoughby', 'Willow Grove', 'Wilmette', 'Wilrijk', 'Wincanton', 'Windber', 'Windisch', 'Winnersh', 'Winnetka', 'Winona', 'Winooski', 'Winter Springs', 'Wisconsin Rapids', 'Wise', 'Wisner', 'Wittenberg', 'Wokingham', 'Wommelgem', 'Wood Dale', 'Woodbine', 'Woodlyn', 'Woodmere', 'Woods Hole', 'Woonsocket', 'Workington', 'Worland', 'Wrentham', 'Wrightsville Beach', 'Wuse', 'Wuxi', 'Wuxue', 'Wyckoff', 'Wylie', 'Wyoming', 'W�chtersbach', 'W�rselen', 'W�rzberg', 'Xiangyang', 'Xianyang', 'Xicheng', 'Xuhui', 'Yakima', 'Yamato-minami', 'Yarmouth', 'Yarmouth Port', 'Yarnton', 'Yavneh', 'Yichang', 'Yokohama-shi', 'Yongin', 'York Haven', 'Yorktown Heights', 'Yreka', 'Yverdon-les-bains', 'Zaandijk', 'Zaanstad', 'Zaghouan', 'Zamudio', \"Zarqa'\", 'Zebulon', 'Zelenec', 'Zelenograd', 'Zell Am See', 'Zephyr Cove', 'Zevenbergen', 'Zhongshan', 'Zilina', 'Zurich', 'Zwevegem', 'Zwingenberg', 'Zwolle', '�karp', '�rnsk�ldsvik', '�safj�r�ur', '�sterby Havn', '�vora']\n",
      "4188\n",
      "null dummy for onehotencoded_quarter_new_index\n",
      "4\n",
      "['Q1', 'Q2', 'Q3', 'Q4']\n",
      "null dummy for onehotencoded_investor_country_code_index\n",
      "78\n",
      "['USA_investor', 'GBR_investor', 'FRA_investor', 'CHN_investor', 'DEU_investor', 'ESP_investor', 'CAN_investor', 'CHL_investor', 'ISR_investor', 'JPN_investor', 'RUS_investor', 'ITA_investor', 'IND_investor', 'SWE_investor', 'HKG_investor', 'IRL_investor', 'SGP_investor', 'CHE_investor', 'DNK_investor', 'NLD_investor', 'KOR_investor', 'AUS_investor', 'FIN_investor', 'ARG_investor', 'BGR_investor', 'BEL_investor', 'BRA_investor', 'POL_investor', 'LUX_investor', 'NOR_investor', 'PRT_investor', 'JOR_investor', 'EST_investor', 'TUR_investor', 'UKR_investor', 'HUN_investor', 'AUT_investor', 'ZAF_investor', 'GRC_investor', 'CZE_investor', 'LBN_investor', 'MUS_investor', 'TWN_investor', 'MYS_investor', 'NZL_investor', 'ARE_investor', 'KEN_investor', 'KHM_investor', 'LTU_investor', 'URY_investor', 'MEX_investor', 'SVK_investor', 'PHL_investor', 'CYM_investor', 'ISL_investor', 'ROM_investor', 'THA_investor', 'IDN_investor', 'COL_investor', 'EGY_investor', 'GHA_investor', 'NGA_investor', 'SAU_investor', 'SVN_investor', 'BHR_investor', 'LVA_investor', 'PSE_investor', 'VNM_investor', 'BLR_investor', 'BMU_investor', 'CYP_investor', 'ARM_investor', 'AZE_investor', 'IRN_investor', 'KWT_investor', 'MAR_investor', 'TTO_investor', 'VEN_investor']\n",
      "null dummy for onehotencoded_funding_round_type_index\n",
      "13\n",
      "['venture', 'seed', 'undisclosed', 'angel', 'private_equity', 'debt_financing', 'grant', 'convertible_note', 'equity_crowdfunding', 'post_ipo_equity', 'post_ipo_debt', 'product_crowdfunding', 'secondary_market']\n",
      "null dummy for onehotencoded_category_final_index\n",
      "2\n",
      "['None', ' + Mobile']\n"
     ],
     "name": "stdout"
    }
   ]
  },
  {
   "cell_type": "markdown",
   "metadata": {
    "id": "jP7-JY6C6OVS"
   },
   "source": [
    "# Modeling"
   ]
  },
  {
   "cell_type": "markdown",
   "metadata": {
    "id": "0IZ7oVSUAHnx"
   },
   "source": [
    "## DECISION TREE"
   ]
  },
  {
   "cell_type": "code",
   "metadata": {
    "id": "-ltVyQEQAYtI"
   },
   "source": [
    "# define multiclass classification evaluator\n",
    "mce = MulticlassClassificationEvaluator()"
   ],
   "execution_count": 38,
   "outputs": []
  },
  {
   "cell_type": "code",
   "metadata": {
    "id": "B03zEVa1AMtn"
   },
   "source": [
    "dt = DecisionTreeClassifier(labelCol=\"label\", featuresCol=\"features\")"
   ],
   "execution_count": 39,
   "outputs": []
  },
  {
   "cell_type": "code",
   "metadata": {
    "id": "ENJ5cfi5As1Y"
   },
   "source": [
    "dt_pipeline = Pipeline(stages=[vanum, std, vacate, va, dt]).fit(training_df)"
   ],
   "execution_count": 40,
   "outputs": []
  },
  {
   "cell_type": "code",
   "metadata": {
    "id": "m9XS6ee5BH86"
   },
   "source": [
    "dfdt = dt_pipeline.transform(validation_df)"
   ],
   "execution_count": 41,
   "outputs": []
  },
  {
   "cell_type": "code",
   "metadata": {
    "colab": {
     "base_uri": "https://localhost:8080/"
    },
    "id": "MAQ7mbWeBXbF",
    "outputId": "0778e51e-c4ba-4112-8719-afde6d2ba496"
   },
   "source": [
    "# print the areas under the curve for the different random forest pipelines\n",
    "print(\"Decision Tree: AUC = {}\".format(mce.evaluate(dfdt)))"
   ],
   "execution_count": 42,
   "outputs": [
    {
     "output_type": "stream",
     "text": [
      "Decision Tree: AUC = 0.889513358604838\n"
     ],
     "name": "stdout"
    }
   ]
  },
  {
   "cell_type": "code",
   "metadata": {
    "colab": {
     "base_uri": "https://localhost:8080/"
    },
    "id": "kkNWwd7SBeuv",
    "outputId": "df1a719d-fa7a-47a5-8fea-69fbb6cb3dd4"
   },
   "source": [
    "# print the accuracies for the different random forest pipelines\n",
    "print(dfdt.select(fn.expr('float(label = prediction)').alias('correct')).select(fn.avg('correct').alias(\"Accuracy for Decision Tree\")).show())"
   ],
   "execution_count": 43,
   "outputs": [
    {
     "output_type": "stream",
     "text": [
      "+--------------------------+\n",
      "|Accuracy for Decision Tree|\n",
      "+--------------------------+\n",
      "|         0.924978171804688|\n",
      "+--------------------------+\n",
      "\n",
      "None\n"
     ],
     "name": "stdout"
    }
   ]
  },
  {
   "cell_type": "markdown",
   "metadata": {
    "id": "JPmN0wEL6QH2"
   },
   "source": [
    "## RANDOM FOREST"
   ]
  },
  {
   "cell_type": "code",
   "metadata": {
    "id": "5_Cg3LOw6Tt_"
   },
   "source": [
    "# define binary classification evaluator\n",
    "bce = BinaryClassificationEvaluator()"
   ],
   "execution_count": 44,
   "outputs": []
  },
  {
   "cell_type": "code",
   "metadata": {
    "id": "U65VOCUe6Wqd"
   },
   "source": [
    "# define default, 15 trees and 25 trees random forest classifier\n",
    "rf = RandomForestClassifier(maxBins=10000, featuresCol='features', labelCol='label')\n",
    "rf15 = RandomForestClassifier(numTrees=15, maxBins=10000, featuresCol='features', labelCol='label')\n",
    "rf25 = RandomForestClassifier(numTrees=25, maxBins=10000, featuresCol='features', labelCol='label')"
   ],
   "execution_count": 45,
   "outputs": []
  },
  {
   "cell_type": "code",
   "metadata": {
    "id": "v0M6PG0B6ZA1"
   },
   "source": [
    "# define and fit pipelines with vector assembler and random forest classifier \n",
    "rf_pipeline = Pipeline(stages=[vanum, std, vacate, va, rf]).fit(training_df)\n",
    "rf_pipeline_15 = Pipeline(stages=[vanum, std, vacate, va, rf15]).fit(training_df)\n",
    "rf_pipeline_25 = Pipeline(stages=[vanum, std, vacate, va, rf25]).fit(training_df)"
   ],
   "execution_count": 46,
   "outputs": []
  },
  {
   "cell_type": "code",
   "metadata": {
    "id": "Xi1u58GI9B0E"
   },
   "source": [
    "dfrf = rf_pipeline.transform(validation_df)\n",
    "dfrf_15 = rf_pipeline_15.transform(validation_df)\n",
    "dfrf_25 = rf_pipeline_25.transform(validation_df)"
   ],
   "execution_count": 47,
   "outputs": []
  },
  {
   "cell_type": "code",
   "metadata": {
    "colab": {
     "base_uri": "https://localhost:8080/"
    },
    "id": "1PHkq0Zm6mcF",
    "outputId": "5a13bd7b-faf5-4f15-b135-1c76faff5be3"
   },
   "source": [
    "dfrf.show()"
   ],
   "execution_count": 48,
   "outputs": [
    {
     "output_type": "stream",
     "text": [
      "+-----+--------------------+--------------------+-----------------+---------+------------+--------------+--------------+------------+-----------+----+--------------------+--------------+---------------------+----------------------+--------------------+----------------+--------------------+--------------+--------------------+---------------------+--------------------+------------------+--------+------------------+----------+-----------------+---------------------------+------------------------+--------------------+----------------------+-----------+----------------------+-----------------------------+------------------------+-----+--------------------------------+------------------------+-------------------------------+-----------------------------------------+--------------------------------------+----------------------------------+--------------------+--------------------+--------------------+--------------------+--------------------+--------------------+----------+\n",
      "|  _c0|           permalink|                name|funding_total_usd|   status|country_code|          city|funding_rounds|founded_year|quarter_new| age|       permalink_agg|count_investor|time_to_first_funding|investor_country_codes| funding_round_types|total_raised_usd|       permalink_sub|category_final|               perma|investor_country_code|          permaround|funding_round_type|labelacq|country_code_index|city_index|quarter_new_index|investor_country_code_index|funding_round_type_index|category_final_index|numeric_funding_rounds|numeric_age|numeric_count_investor|numeric_time_to_first_funding|numeric_total_raised_usd|label|onehotencoded_country_code_index|onehotencoded_city_index|onehotencoded_quarter_new_index|onehotencoded_investor_country_code_index|onehotencoded_funding_round_type_index|onehotencoded_category_final_index|     features_nonstd|         featuresnum|        featurescate|            features|       rawPrediction|         probability|prediction|\n",
      "+-----+--------------------+--------------------+-----------------+---------+------------+--------------+--------------+------------+-----------+----+--------------------+--------------+---------------------+----------------------+--------------------+----------------+--------------------+--------------+--------------------+---------------------+--------------------+------------------+--------+------------------+----------+-----------------+---------------------------+------------------------+--------------------+----------------------+-----------+----------------------+-----------------------------+------------------------+-----+--------------------------------+------------------------+-------------------------------+-----------------------------------------+--------------------------------------+----------------------------------+--------------------+--------------------+--------------------+--------------------+--------------------+--------------------+----------+\n",
      "|    0|  /organization/1lay|                1Lay|        1,70,000 |operating|         USA| San Francisco|             1|        2013|         Q3| 1.5|  /organization/1lay|           0.0|                  0.0|                   USA|                seed|           118.0|  /organization/1lay|          None| /organization/prysm|                  USA| /organization/prysm|              null|     0.0|               0.0|       0.0|              2.0|                        0.0|                     0.0|                 0.0|                     1|          1|                     0|                            0|                     118|    0|                 (114,[0],[1.0])|        (4187,[0],[1.0])|                  (3,[2],[1.0])|                           (77,[0],[1.0])|                        (12,[0],[1.0])|                     (1,[0],[1.0])|[1.0,1.0,0.0,0.0,...|[-0.5388925626455...|(4394,[0,114,4303...|(4399,[0,1,2,3,4,...|[18.5841942776641...|[0.92920971388320...|       0.0|\n",
      "|    1|/organization/24p...|         24PageBooks|          50,000 |   closed|         USA|     Rochester|             1|        2010|         Q1| 5.0|/organization/24p...|           1.0|                 1.25|                   FRA|                seed|           118.0|/organization/24p...|          None|/organization/24p...|                  FRA|/organization/24p...|              null|     0.0|               0.0|     156.0|              0.0|                        2.0|                     1.0|                 0.0|                     1|          5|                     1|                            1|                     118|    0|                 (114,[0],[1.0])|      (4187,[156],[1.0])|                  (3,[0],[1.0])|                           (77,[2],[1.0])|                        (12,[1],[1.0])|                     (1,[0],[1.0])|[1.0,5.0,1.0,1.0,...|[-0.5388925626455...|(4394,[0,270,4301...|(4399,[0,1,2,3,4,...|[18.5911195534044...|[0.92955597767022...|       0.0|\n",
      "|   10|/organization/amt...|AMTT Digital Serv...|     1,00,00,000 |operating|         CHN|       Beijing|             1|        2008|         Q1| 7.0|/organization/amt...|           1.0|                  1.0|                   HKG|             venture|           118.0|/organization/amt...|          None|/organization/amt...|                  HKG|/organization/amt...|              null|     0.0|               3.0|      11.0|              0.0|                       14.0|                     0.0|                 0.0|                     1|          7|                     1|                            1|                     118|    0|                 (114,[3],[1.0])|       (4187,[11],[1.0])|                  (3,[0],[1.0])|                          (77,[14],[1.0])|                        (12,[0],[1.0])|                     (1,[0],[1.0])|[1.0,7.0,1.0,1.0,...|[-0.5388925626455...|(4394,[3,125,4301...|(4399,[0,1,2,3,4,...|[18.4675543216169...|[0.92337771608084...|       0.0|\n",
      "|  100|/organization/hom...|             Homejoy|     3,97,00,000 |operating|         USA| San Francisco|             5|        2012|         Q3| 2.5|/organization/hom...|          20.0|                 -2.5|  USA, USA, USA, US...|venture, venture,...|           118.0|/organization/hom...|          None|/organization/hom...|                  USA|/organization/hom...|              null|     0.0|               0.0|       0.0|              2.0|                        0.0|                     0.0|                 0.0|                     5|          2|                    20|                           -2|                     118|    0|                 (114,[0],[1.0])|        (4187,[0],[1.0])|                  (3,[2],[1.0])|                           (77,[0],[1.0])|                        (12,[0],[1.0])|                     (1,[0],[1.0])|[5.0,2.0,20.0,-2....|[2.55390477047676...|(4394,[0,114,4303...|(4399,[0,1,2,3,4,...|[18.3623727061095...|[0.91811863530547...|       0.0|\n",
      "| 1000|/organization/vic...|       Vico Software|       36,00,000 |operating|         USA|       Boulder|             1|        2007|         Q1| 8.0|/organization/vic...|           3.0|                 2.75|         USA, USA, USA|venture, venture,...|           118.0|/organization/vic...|          None|/organization/vic...|                  USA|/organization/vic...|              null|     0.0|               0.0|      41.0|              0.0|                        0.0|                     0.0|                 0.0|                     1|          8|                     3|                            2|                     118|    0|                 (114,[0],[1.0])|       (4187,[41],[1.0])|                  (3,[0],[1.0])|                           (77,[0],[1.0])|                        (12,[0],[1.0])|                     (1,[0],[1.0])|[1.0,8.0,3.0,2.0,...|[-0.5388925626455...|(4394,[0,155,4301...|(4399,[0,1,2,3,4,...|[18.3636218321654...|[0.91818109160827...|       0.0|\n",
      "|10003|/organization/ohm...|             OhmData|        1,85,000 | acquired|         USA| San Francisco|             1|        2013|         Q1| 2.0|/organization/ohm...|           0.0|                  0.0|                   USA|                seed|           118.0|/organization/ohm...|          None| /organization/prysm|                  USA| /organization/prysm|              null|     1.0|               0.0|       0.0|              0.0|                        0.0|                     0.0|                 0.0|                     1|          2|                     0|                            0|                     118|    1|                 (114,[0],[1.0])|        (4187,[0],[1.0])|                  (3,[0],[1.0])|                           (77,[0],[1.0])|                        (12,[0],[1.0])|                     (1,[0],[1.0])|[1.0,2.0,0.0,0.0,...|[-0.5388925626455...|(4394,[0,114,4301...|(4399,[0,1,2,3,4,...|[18.5612729932892...|[0.92806364966446...|       0.0|\n",
      "|10004|/organization/one...|             Onevest|       33,00,000 |operating|         USA|      New York|             1|        2014|         Q1| 1.0|/organization/one...|           7.0|                  0.5|  RUS, USA, USA, US...|seed, seed, seed,...|           118.0|/organization/one...|          None|/organization/one...|                  USA|/organization/one...|              null|     0.0|               0.0|       1.0|              0.0|                        0.0|                     1.0|                 0.0|                     1|          1|                     7|                            0|                     118|    0|                 (114,[0],[1.0])|        (4187,[1],[1.0])|                  (3,[0],[1.0])|                           (77,[0],[1.0])|                        (12,[1],[1.0])|                     (1,[0],[1.0])|[1.0,1.0,7.0,0.0,...|[-0.5388925626455...|(4394,[0,115,4301...|(4399,[0,1,2,3,4,...|[18.5532323841773...|[0.92766161920886...|       0.0|\n",
      "|10005|/organization/onlive|              OnLive|     5,65,00,000 |operating|         USA|     Palo Alto|             3|        2002|         Q1|13.0|/organization/onlive|           8.0|                 5.75|  USA, USA, USA, US...|venture, venture,...|           118.0|/organization/onlive|          None|/organization/onlive|                  USA|/organization/onlive|              null|     0.0|               0.0|       3.0|              0.0|                        0.0|                     0.0|                 0.0|                     3|         13|                     8|                            5|                     118|    0|                 (114,[0],[1.0])|        (4187,[3],[1.0])|                  (3,[0],[1.0])|                           (77,[0],[1.0])|                        (12,[0],[1.0])|                     (1,[0],[1.0])|[3.0,13.0,8.0,5.0...|[1.00750610391563...|(4394,[0,117,4301...|(4399,[0,1,2,3,4,...|[18.2457327500623...|[0.91228663750311...|       0.0|\n",
      "|10007|/organization/ons...|         Onsite Care|       17,50,000 |operating|         USA|Salt Lake City|             1|        2007|         Q1| 8.0|/organization/ons...|           0.0|                  0.0|                   USA|                seed|           118.0|/organization/ons...|          None| /organization/prysm|                  USA| /organization/prysm|              null|     0.0|               0.0|      59.0|              0.0|                        0.0|                     0.0|                 0.0|                     1|          8|                     0|                            0|                     118|    0|                 (114,[0],[1.0])|       (4187,[59],[1.0])|                  (3,[0],[1.0])|                           (77,[0],[1.0])|                        (12,[0],[1.0])|                     (1,[0],[1.0])|[1.0,8.0,0.0,0.0,...|[-0.5388925626455...|(4394,[0,173,4301...|(4399,[0,1,2,3,4,...|[18.4675543216169...|[0.92337771608084...|       0.0|\n",
      "|10009|/organization/opt...|   Optimal Radiology|     3,46,04,568 |operating|         USA|     Nashville|             3|        2012|         Q1| 3.0|/organization/opt...|           0.0|                  0.0|                   USA|                seed|           118.0|/organization/opt...|          None| /organization/prysm|                  USA| /organization/prysm|              null|     0.0|               0.0|      45.0|              0.0|                        0.0|                     0.0|                 0.0|                     3|          3|                     0|                            0|                     118|    0|                 (114,[0],[1.0])|       (4187,[45],[1.0])|                  (3,[0],[1.0])|                           (77,[0],[1.0])|                        (12,[0],[1.0])|                     (1,[0],[1.0])|[3.0,3.0,0.0,0.0,...|[1.00750610391563...|(4394,[0,159,4301...|(4399,[0,1,2,3,4,...|[18.4433839111860...|[0.92216919555930...|       0.0|\n",
      "|10012|/organization/out...|          Outerstuff|             -   |operating|         USA|      New York|             1|        1983|         Q1|32.0|/organization/out...|           1.0|                31.25|                   USA|             venture|           118.0|/organization/out...|          None|/organization/out...|                  USA|/organization/out...|              null|     0.0|               0.0|       1.0|              0.0|                        0.0|                     0.0|                 0.0|                     1|         32|                     1|                           31|                     118|    0|                 (114,[0],[1.0])|        (4187,[1],[1.0])|                  (3,[0],[1.0])|                           (77,[0],[1.0])|                        (12,[0],[1.0])|                     (1,[0],[1.0])|[1.0,32.0,1.0,31....|[-0.5388925626455...|(4394,[0,115,4301...|(4399,[0,1,2,3,4,...|[18.4675543216169...|[0.92337771608084...|       0.0|\n",
      "|10016|/organization/per...|Performance Marke...|     4,85,00,000 |operating|         USA| San Francisco|             1|        2012|         Q1| 3.0|/organization/per...|           4.0|                  0.0|    USA, USA, USA, USA|private_equity, p...|           118.0|/organization/per...|          None|/organization/per...|                  USA|/organization/per...|              null|     0.0|               0.0|       0.0|              0.0|                        0.0|                     4.0|                 0.0|                     1|          3|                     4|                            0|                     118|    0|                 (114,[0],[1.0])|        (4187,[0],[1.0])|                  (3,[0],[1.0])|                           (77,[0],[1.0])|                        (12,[4],[1.0])|                     (1,[0],[1.0])|[1.0,3.0,4.0,0.0,...|[-0.5388925626455...|(4394,[0,114,4301...|(4399,[0,1,2,3,4,...|[18.4387408780118...|[0.92193704390059...|       0.0|\n",
      "|10017|/organization/pet...|            Corensic|       60,00,000 |   closed|         USA|       Seattle|             2|        2008|         Q1| 7.0|/organization/pet...|           3.0|                  1.0|              USA, USA|venture, venture,...|           118.0|/organization/pet...|          None|/organization/pet...|                  USA|/organization/pet...|              null|     0.0|               0.0|       6.0|              0.0|                        0.0|                     0.0|                 0.0|                     2|          7|                     3|                            1|                     118|    0|                 (114,[0],[1.0])|        (4187,[6],[1.0])|                  (3,[0],[1.0])|                           (77,[0],[1.0])|                        (12,[0],[1.0])|                     (1,[0],[1.0])|[2.0,7.0,3.0,1.0,...|[0.23430677063506...|(4394,[0,120,4301...|(4399,[0,1,2,3,4,...|[18.0526373397583...|[0.90263186698791...|       0.0|\n",
      "|10018|/organization/pet...|             PetroDE|       20,00,000 |operating|         USA|    Broomfield|             1|        2012|         Q1| 3.0|/organization/pet...|           1.0|                  0.0|                   USA|                seed|           118.0|/organization/pet...|          None|/organization/pet...|                  USA|/organization/pet...|              null|     0.0|               0.0|     203.0|              0.0|                        0.0|                     1.0|                 0.0|                     1|          3|                     1|                            0|                     118|    0|                 (114,[0],[1.0])|      (4187,[203],[1.0])|                  (3,[0],[1.0])|                           (77,[0],[1.0])|                        (12,[1],[1.0])|                     (1,[0],[1.0])|[1.0,3.0,1.0,0.0,...|[-0.5388925626455...|(4394,[0,317,4301...|(4399,[0,1,2,3,4,...|[18.6571648736288...|[0.93285824368144...|       0.0|\n",
      "|10022|/organization/pre...|         PressMatrix|       32,16,500 |operating|         DEU|        Berlin|             1|        2011|         Q4|3.25|/organization/pre...|           1.0|                  1.5|                   DEU|             venture|           118.0|/organization/pre...|          None|/organization/pre...|                  DEU|/organization/pre...|              null|     0.0|               4.0|      17.0|              3.0|                        4.0|                     0.0|                 0.0|                     1|          3|                     1|                            1|                     118|    0|                 (114,[4],[1.0])|       (4187,[17],[1.0])|                      (3,[],[])|                           (77,[4],[1.0])|                        (12,[0],[1.0])|                     (1,[0],[1.0])|[1.0,3.0,1.0,1.0,...|[-0.5388925626455...|(4394,[4,131,4308...|(4399,[0,1,2,3,4,...|[18.5612729932892...|[0.92806364966446...|       0.0|\n",
      "|10026|/organization/pur...|    Pure Elegance TV|        1,00,000 |operating|         USA|          Reno|             1|        2010|         Q1| 5.0|/organization/pur...|           0.0|                  0.0|                   USA|                seed|           118.0|/organization/pur...|          None| /organization/prysm|                  USA| /organization/prysm|              null|     0.0|               0.0|     285.0|              0.0|                        0.0|                     0.0|                 0.0|                     1|          5|                     0|                            0|                     118|    0|                 (114,[0],[1.0])|      (4187,[285],[1.0])|                  (3,[0],[1.0])|                           (77,[0],[1.0])|                        (12,[0],[1.0])|                     (1,[0],[1.0])|[1.0,5.0,0.0,0.0,...|[-0.5388925626455...|(4394,[0,399,4301...|(4399,[0,1,2,3,4,...|[18.5612729932892...|[0.92806364966446...|       0.0|\n",
      "|10028|/organization/ran...|   Randolph Hospital|        3,50,000 |operating|         USA|      Asheboro|             1|        1928|         Q1|87.0|/organization/ran...|           0.0|                  0.0|                   USA|                seed|           118.0|/organization/ran...|          None| /organization/prysm|                  USA| /organization/prysm|              null|     0.0|               0.0|    1463.0|              0.0|                        0.0|                     0.0|                 0.0|                     1|         87|                     0|                            0|                     118|    0|                 (114,[0],[1.0])|     (4187,[1463],[1.0])|                  (3,[0],[1.0])|                           (77,[0],[1.0])|                        (12,[0],[1.0])|                     (1,[0],[1.0])|[1.0,87.0,0.0,0.0...|[-0.5388925626455...|(4394,[0,1577,430...|(4399,[0,1,2,3,4,...|[18.4675543216169...|[0.92337771608084...|       0.0|\n",
      "|10032|/organization/sal...|   Salus Innovations|             -   |operating|         CAN|   Fort Nelson|             1|        2013|         Q3| 1.5|/organization/sal...|           0.0|                  0.0|                   USA|                seed|           118.0|/organization/sal...|          None| /organization/prysm|                  USA| /organization/prysm|              null|     0.0|               2.0|    2684.0|              2.0|                        0.0|                     0.0|                 0.0|                     1|          1|                     0|                            0|                     118|    0|                 (114,[2],[1.0])|     (4187,[2684],[1.0])|                  (3,[2],[1.0])|                           (77,[0],[1.0])|                        (12,[0],[1.0])|                     (1,[0],[1.0])|[1.0,1.0,0.0,0.0,...|[-0.5388925626455...|(4394,[2,2798,430...|(4399,[0,1,2,3,4,...|[18.5841942776641...|[0.92920971388320...|       0.0|\n",
      "|10037|/organization/sci...|            Scioderm|     1,70,00,000 |operating|         USA|        Durham|             2|        2012|         Q1| 3.0|/organization/sci...|           2.0|                 1.25|              USA, USA|    venture, venture|           118.0|/organization/sci...|          None|/organization/sci...|                  USA|/organization/sci...|              null|     0.0|               0.0|      61.0|              0.0|                        0.0|                     0.0|                 0.0|                     2|          3|                     2|                            1|                     118|    0|                 (114,[0],[1.0])|       (4187,[61],[1.0])|                  (3,[0],[1.0])|                           (77,[0],[1.0])|                        (12,[0],[1.0])|                     (1,[0],[1.0])|[2.0,3.0,2.0,1.0,...|[0.23430677063506...|(4394,[0,175,4301...|(4399,[0,1,2,3,4,...|[18.4433839111860...|[0.92216919555930...|       0.0|\n",
      "|10038|/organization/scr...|          Screenhero|             -   |operating|         USA| Mountain View|             1|        2013|         Q1| 2.0|/organization/scr...|           2.0|                 0.25|              USA, USA|          seed, seed|           118.0|/organization/scr...|          None|/organization/scr...|                  USA|/organization/scr...|              null|     0.0|               0.0|       9.0|              0.0|                        0.0|                     1.0|                 0.0|                     1|          2|                     2|                            0|                     118|    0|                 (114,[0],[1.0])|        (4187,[9],[1.0])|                  (3,[0],[1.0])|                           (77,[0],[1.0])|                        (12,[1],[1.0])|                     (1,[0],[1.0])|[1.0,2.0,2.0,0.0,...|[-0.5388925626455...|(4394,[0,123,4301...|(4399,[0,1,2,3,4,...|[18.6571648736288...|[0.93285824368144...|       0.0|\n",
      "+-----+--------------------+--------------------+-----------------+---------+------------+--------------+--------------+------------+-----------+----+--------------------+--------------+---------------------+----------------------+--------------------+----------------+--------------------+--------------+--------------------+---------------------+--------------------+------------------+--------+------------------+----------+-----------------+---------------------------+------------------------+--------------------+----------------------+-----------+----------------------+-----------------------------+------------------------+-----+--------------------------------+------------------------+-------------------------------+-----------------------------------------+--------------------------------------+----------------------------------+--------------------+--------------------+--------------------+--------------------+--------------------+--------------------+----------+\n",
      "only showing top 20 rows\n",
      "\n"
     ],
     "name": "stdout"
    }
   ]
  },
  {
   "cell_type": "markdown",
   "metadata": {
    "id": "rIxbhiAQzy3g"
   },
   "source": [
    "## Performance"
   ]
  },
  {
   "cell_type": "code",
   "metadata": {
    "colab": {
     "base_uri": "https://localhost:8080/"
    },
    "id": "qrsrlqbvzp6C",
    "outputId": "a7196477-40c3-486e-9f61-7bf83c56e81a"
   },
   "source": [
    "# print the areas under the curve for the different random forest pipelines\n",
    "print(\"Random Forest with 20 trees: AUC = {}\".format(bce.evaluate(dfrf)))\n",
    "print(\"Random Forest 15 trees: AUC = {}\".format(bce.evaluate(dfrf_15)))\n",
    "print(\"Random Forest 25 trees: AUC = {}\".format(bce.evaluate(dfrf_25)))"
   ],
   "execution_count": 49,
   "outputs": [
    {
     "output_type": "stream",
     "text": [
      "Random Forest with 20 trees: AUC = 0.7001709984266348\n",
      "Random Forest 15 trees: AUC = 0.7083893275885205\n",
      "Random Forest 25 trees: AUC = 0.7107933708197851\n"
     ],
     "name": "stdout"
    }
   ]
  },
  {
   "cell_type": "code",
   "metadata": {
    "colab": {
     "base_uri": "https://localhost:8080/"
    },
    "id": "UGY5xNLyzwmT",
    "outputId": "90fb9216-9ecf-480c-a3cc-96065fd85fdb"
   },
   "source": [
    "# print the accuracies for the different random forest pipelines\n",
    "print(dfrf.select(fn.expr('float(label = prediction)').alias('correct')).select(fn.avg('correct').alias(\"Accuracy for Random Forest with 20 trees\")).show())\n",
    "print(dfrf_15.select(fn.expr('float(label = prediction)').alias('correct')).select(fn.avg('correct').alias(\"Accuracy for Random Forest with 15 trees\")).show())\n",
    "print(dfrf_25.select(fn.expr('float(label = prediction)').alias('correct')).select(fn.avg('correct').alias(\"Accuracy for Random Forest with 25 trees\")).show())"
   ],
   "execution_count": 50,
   "outputs": [
    {
     "output_type": "stream",
     "text": [
      "+----------------------------------------+\n",
      "|Accuracy for Random Forest with 20 trees|\n",
      "+----------------------------------------+\n",
      "|                       0.925313990194103|\n",
      "+----------------------------------------+\n",
      "\n",
      "None\n",
      "+----------------------------------------+\n",
      "|Accuracy for Random Forest with 15 trees|\n",
      "+----------------------------------------+\n",
      "|                       0.925313990194103|\n",
      "+----------------------------------------+\n",
      "\n",
      "None\n",
      "+----------------------------------------+\n",
      "|Accuracy for Random Forest with 25 trees|\n",
      "+----------------------------------------+\n",
      "|                       0.925313990194103|\n",
      "+----------------------------------------+\n",
      "\n",
      "None\n"
     ],
     "name": "stdout"
    }
   ]
  },
  {
   "cell_type": "markdown",
   "metadata": {
    "id": "L7oMiminDE9u"
   },
   "source": [
    "For some reason the accuracy is exactly the same for all three models, probably meaning that the three models do not have a significant difference. However, the values for the importancies (see down below) are different."
   ]
  },
  {
   "cell_type": "markdown",
   "metadata": {
    "id": "WplwyYwzz-GT"
   },
   "source": [
    "## Importancies and Weights"
   ]
  },
  {
   "cell_type": "code",
   "metadata": {
    "colab": {
     "base_uri": "https://localhost:8080/",
     "height": 450
    },
    "id": "8sGhedilz44k",
    "outputId": "e8683f21-3a31-46c3-dcfb-0e08d563c5d2"
   },
   "source": [
    "# create spark df with the 20 highest labels and the corresponding importancies + sorting by importancy\n",
    "rfw = spark.createDataFrame(pd.DataFrame(list(zip(labellist, rf_pipeline.stages[4].featureImportances.toArray())),\n",
    "            columns = ['column', 'importancy']).sort_values('importancy').tail(20))\n",
    "display(rfw)\n",
    "rfw.show()"
   ],
   "execution_count": 51,
   "outputs": [
    {
     "output_type": "display_data",
     "data": {
      "text/plain": [
       "DataFrame[column: string, importancy: double]"
      ]
     },
     "metadata": {
      "tags": []
     }
    },
    {
     "output_type": "stream",
     "text": [
      "+--------------------+--------------------+\n",
      "|              column|          importancy|\n",
      "+--------------------+--------------------+\n",
      "|        Little River|0.013912700384966507|\n",
      "|         Culver City|0.014456104494976243|\n",
      "|         Steinhausen|0.014598402993142856|\n",
      "|            Prospect|0.014600395745150572|\n",
      "|                Bray| 0.01646026575387154|\n",
      "|numeric_time_to_f...| 0.01811280030889253|\n",
      "|               Orsay|0.019502531047753787|\n",
      "|            San Jose|0.020545251300477893|\n",
      "|              Moscow|  0.0221019046042994|\n",
      "|             Norwich|0.023010138120640407|\n",
      "|        Philadelphia|0.029166669618492038|\n",
      "|                 IND|0.031807109735621765|\n",
      "|     Hoffman Estates| 0.03715019751454071|\n",
      "|           Cambridge| 0.04002761433179831|\n",
      "|          Brookfield| 0.04319476912484573|\n",
      "|numeric_count_inv...|0.048718867112921234|\n",
      "|         numeric_age|0.056279540059085136|\n",
      "|numeric_funding_r...| 0.07010327551287102|\n",
      "|        MAR_investor|  0.0705646712055127|\n",
      "|            Gembloux| 0.07262044706170187|\n",
      "+--------------------+--------------------+\n",
      "\n"
     ],
     "name": "stdout"
    }
   ]
  },
  {
   "cell_type": "code",
   "metadata": {
    "colab": {
     "base_uri": "https://localhost:8080/",
     "height": 450
    },
    "id": "a1YiDPMw0BGb",
    "outputId": "d11119d3-e752-43fc-a9ab-34468f0dfcab"
   },
   "source": [
    "# create spark df with the labels and the corresponding importancies + sorting by importancy\n",
    "rf15w = spark.createDataFrame(pd.DataFrame(list(zip(labellist, rf_pipeline_15.stages[4].featureImportances.toArray())),\n",
    "            columns = ['column', 'importancy']).sort_values('importancy').tail(20))\n",
    "display(rf15w)\n",
    "rf15w.show()"
   ],
   "execution_count": 52,
   "outputs": [
    {
     "output_type": "display_data",
     "data": {
      "text/plain": [
       "DataFrame[column: string, importancy: double]"
      ]
     },
     "metadata": {
      "tags": []
     }
    },
    {
     "output_type": "stream",
     "text": [
      "+--------------------+--------------------+\n",
      "|              column|          importancy|\n",
      "+--------------------+--------------------+\n",
      "|        Temple Hills|0.015479448575504224|\n",
      "|              Novato| 0.01604121374305548|\n",
      "|          Springdale| 0.01605554990466834|\n",
      "| Magdeburg-rothensee|0.016229597699387904|\n",
      "|           Levittown| 0.01632092090581517|\n",
      "|         Albertville|0.020518085779776492|\n",
      "|             Redmond| 0.02105604590999835|\n",
      "|                Lima| 0.02357283971930415|\n",
      "|        Agoura Hills|0.024786054705578573|\n",
      "|               Wayne|0.029811538581815546|\n",
      "|               Alamo|  0.0307173204799975|\n",
      "|        KWT_investor| 0.03274477003488468|\n",
      "|         Los Angeles| 0.04398992693454515|\n",
      "|             Atlanta| 0.04515962979389391|\n",
      "|           Cambridge|  0.0553114562448182|\n",
      "|        MAR_investor|0.056926678881167384|\n",
      "|         numeric_age|0.061393953422846544|\n",
      "|numeric_count_inv...| 0.06349339118943091|\n",
      "|numeric_funding_r...| 0.06892375749720289|\n",
      "|            Moorpark| 0.07142857142857142|\n",
      "+--------------------+--------------------+\n",
      "\n"
     ],
     "name": "stdout"
    }
   ]
  },
  {
   "cell_type": "code",
   "metadata": {
    "colab": {
     "base_uri": "https://localhost:8080/",
     "height": 450
    },
    "id": "sZcHOXqj0E2N",
    "outputId": "5dc07c39-de7f-4751-8b1d-a308d3bb3eb5"
   },
   "source": [
    "# create spark df with the labels and the corresponding importancies + sorting by importancy\n",
    "rf25w = spark.createDataFrame(pd.DataFrame(list(zip(labellist, rf_pipeline_25.stages[4].featureImportances.toArray())),\n",
    "            columns = ['column', 'weight']).sort_values('weight').tail(20))\n",
    "display(rf25w)\n",
    "rf25w.show()"
   ],
   "execution_count": 53,
   "outputs": [
    {
     "output_type": "display_data",
     "data": {
      "text/plain": [
       "DataFrame[column: string, weight: double]"
      ]
     },
     "metadata": {
      "tags": []
     }
    },
    {
     "output_type": "stream",
     "text": [
      "+--------------------+--------------------+\n",
      "|              column|              weight|\n",
      "+--------------------+--------------------+\n",
      "|                Oslo|0.016087455610669932|\n",
      "|Feasterville Trevose|0.016616446681470994|\n",
      "|             Hasselt|0.016931581014104125|\n",
      "|          Wellington|0.016949804804523877|\n",
      "|            Suresnes| 0.01749804305383187|\n",
      "|             Cologne|  0.0176284231667193|\n",
      "|              Irving|0.017726800673899652|\n",
      "|                 USA|0.020366058015948207|\n",
      "|               Macon|0.021676877406198666|\n",
      "|           Haymarket| 0.02237157683328067|\n",
      "|               Aptos| 0.02335198314336349|\n",
      "|           Cambridge|0.024275363570069042|\n",
      "|         Los Angeles|0.024782017501426657|\n",
      "|        KWT_investor|0.027324344638237987|\n",
      "|                Bray|0.032049562044388524|\n",
      "|numeric_count_inv...|0.032840363628898195|\n",
      "|numeric_funding_r...|0.033872197719853094|\n",
      "|        MAR_investor|0.035271467241434734|\n",
      "|         numeric_age| 0.03748722527444741|\n",
      "|         Schuttrange|0.051310510365906295|\n",
      "+--------------------+--------------------+\n",
      "\n"
     ],
     "name": "stdout"
    }
   ]
  },
  {
   "cell_type": "markdown",
   "metadata": {
    "id": "HHKK4XQn6YLb"
   },
   "source": [
    "# TESTING PERFORMANCE"
   ]
  },
  {
   "cell_type": "markdown",
   "metadata": {
    "id": "CHlbqkc56b5i"
   },
   "source": [
    "We tested with the best performing (AUC and Accuracy) Decision Tree and Random Forest model."
   ]
  },
  {
   "cell_type": "code",
   "metadata": {
    "colab": {
     "base_uri": "https://localhost:8080/"
    },
    "id": "YVp1Ug4h6Vk5",
    "outputId": "ceacf57f-e418-41f8-ab0c-c42a33d929f9"
   },
   "source": [
    "# Decision Tree\n",
    "dfdt_test = dt_pipeline.transform(testing_df)\n",
    "print(\"Decision Tree: AUC = {}\".format(mce.evaluate(dfdt_test)))\n",
    "print(dfdt_test.select(fn.expr('float(label = prediction)').alias('correct')).select(fn.avg('correct').alias(\"Accuracy for Decision Tree\")).show())\n",
    "# Best performing random forest model\n",
    "dfrf_25_test = rf_pipeline_25.transform(testing_df)\n",
    "print(\"Random Forest 25 trees: AUC = {}\".format(bce.evaluate(dfrf_25_test)))\n",
    "print(dfrf_25_test.select(fn.expr('float(label = prediction)').alias('correct')).select(fn.avg('correct').alias(\"Accuracy for Random Forest with 15 trees\")).show())"
   ],
   "execution_count": 55,
   "outputs": [
    {
     "output_type": "stream",
     "text": [
      "Decision Tree: AUC = 0.8963869491955121\n",
      "+--------------------------+\n",
      "|Accuracy for Decision Tree|\n",
      "+--------------------------+\n",
      "|        0.9299442033477991|\n",
      "+--------------------------+\n",
      "\n",
      "None\n",
      "Random Forest 25 trees: AUC = 0.7105225794662331\n",
      "+----------------------------------------+\n",
      "|Accuracy for Random Forest with 15 trees|\n",
      "+----------------------------------------+\n",
      "|                      0.9301508576152098|\n",
      "+----------------------------------------+\n",
      "\n",
      "None\n"
     ],
     "name": "stdout"
    }
   ]
  }
 ]
}
